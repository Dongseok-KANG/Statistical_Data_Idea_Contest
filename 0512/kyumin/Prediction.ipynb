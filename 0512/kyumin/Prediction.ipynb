{
 "cells": [
  {
   "cell_type": "code",
   "execution_count": 2,
   "metadata": {},
   "outputs": [
    {
     "ename": "ModuleNotFoundError",
     "evalue": "No module named 'xgboost'",
     "output_type": "error",
     "traceback": [
      "\u001b[1;31m---------------------------------------------------------------------------\u001b[0m",
      "\u001b[1;31mModuleNotFoundError\u001b[0m                       Traceback (most recent call last)",
      "\u001b[1;32m<ipython-input-2-d2c2d1d2bec6>\u001b[0m in \u001b[0;36m<module>\u001b[1;34m\u001b[0m\n\u001b[0;32m     12\u001b[0m \u001b[1;32mfrom\u001b[0m \u001b[0msklearn\u001b[0m\u001b[1;33m.\u001b[0m\u001b[0mmodel_selection\u001b[0m \u001b[1;32mimport\u001b[0m \u001b[0mGridSearchCV\u001b[0m\u001b[1;33m\u001b[0m\u001b[1;33m\u001b[0m\u001b[0m\n\u001b[0;32m     13\u001b[0m \u001b[1;32mfrom\u001b[0m \u001b[0mlightgbm\u001b[0m \u001b[1;32mimport\u001b[0m \u001b[0mLGBMClassifier\u001b[0m\u001b[1;33m,\u001b[0m \u001b[0mplot_importance\u001b[0m\u001b[1;33m\u001b[0m\u001b[1;33m\u001b[0m\u001b[0m\n\u001b[1;32m---> 14\u001b[1;33m \u001b[1;32mfrom\u001b[0m \u001b[0mxgboost\u001b[0m \u001b[1;32mimport\u001b[0m \u001b[0mXGBClassifier\u001b[0m\u001b[1;33m,\u001b[0m \u001b[0mplot_importance\u001b[0m\u001b[1;33m\u001b[0m\u001b[1;33m\u001b[0m\u001b[0m\n\u001b[0m\u001b[0;32m     15\u001b[0m \u001b[1;32mfrom\u001b[0m \u001b[0msklearn\u001b[0m\u001b[1;33m.\u001b[0m\u001b[0mmetrics\u001b[0m \u001b[1;32mimport\u001b[0m \u001b[0mf1_score\u001b[0m\u001b[1;33m\u001b[0m\u001b[1;33m\u001b[0m\u001b[0m\n",
      "\u001b[1;31mModuleNotFoundError\u001b[0m: No module named 'xgboost'"
     ]
    }
   ],
   "source": [
    "import pandas as pd\n",
    "import numpy as np\n",
    "\n",
    "# from sklearn.preprocessing import Imputer\n",
    "from matplotlib import pyplot as plt\n",
    "from sklearn.preprocessing import StandardScaler\n",
    "from sklearn.linear_model import LogisticRegression\n",
    "from sklearn.model_selection import train_test_split\n",
    "from sklearn.linear_model import Ridge, Lasso, ElasticNet\n",
    "from sklearn.metrics import mean_squared_error\n",
    "from sklearn.ensemble import GradientBoostingClassifier, RandomForestClassifier\n",
    "from sklearn.model_selection import GridSearchCV\n",
    "from lightgbm import LGBMClassifier, plot_importance\n",
    "from xgboost import XGBClassifier, plot_importance\n",
    "from sklearn.metrics import f1_score"
   ]
  },
  {
   "cell_type": "markdown",
   "metadata": {},
   "source": [
    "# 전처리"
   ]
  },
  {
   "cell_type": "code",
   "execution_count": 2,
   "metadata": {},
   "outputs": [],
   "source": [
    "train_ = pd.read_excel('C:/Users/user/Desktop/PJT/Statistical_Data_Idea_Contest/DATA/데이터/기술통계19.xlsx',index_col='global_id')\n",
    "service_ = pd.read_excel('C:/Users/user/Desktop/PJT/Statistical_Data_Idea_Contest/DATA/데이터/실태조사_서비스업19.xlsx',index_col='global_id')\n",
    "normal_ = pd.read_excel('C:/Users/user/Desktop/PJT/Statistical_Data_Idea_Contest/DATA/데이터/실태조사_일반항목19.xlsx',index_col='global_id')\n",
    "product_ = pd.read_excel('C:/Users/user/Desktop/PJT/Statistical_Data_Idea_Contest/DATA/데이터/실태조사_제조업19.xlsx',index_col='global_id')"
   ]
  },
  {
   "cell_type": "code",
   "execution_count": 205,
   "metadata": {},
   "outputs": [],
   "source": [
    "train = train_[:]\n",
    "service = service_[:]\n",
    "\n",
    "normal = normal_[:]\n",
    "product = product_[:]"
   ]
  },
  {
   "cell_type": "code",
   "execution_count": 206,
   "metadata": {},
   "outputs": [],
   "source": [
    "#여기는 시험용임\n",
    "service = product_[:]"
   ]
  },
  {
   "cell_type": "markdown",
   "metadata": {},
   "source": [
    "손익계산서 변수들만 추출"
   ]
  },
  {
   "cell_type": "code",
   "execution_count": 207,
   "metadata": {},
   "outputs": [],
   "source": [
    "cols = [c for c in service.columns if c[:4] == 'INC_']\n",
    "service=service[cols]"
   ]
  },
  {
   "cell_type": "markdown",
   "metadata": {},
   "source": [
    "'-', 콤마 제거"
   ]
  },
  {
   "cell_type": "code",
   "execution_count": 208,
   "metadata": {},
   "outputs": [],
   "source": [
    "for i in cols:\n",
    "    service[i] = service[i].replace(' - ',np.nan)\n",
    "    service[i] = service[i].replace(',','')    "
   ]
  },
  {
   "cell_type": "markdown",
   "metadata": {},
   "source": [
    "object 타입 float으로 변경"
   ]
  },
  {
   "cell_type": "code",
   "execution_count": 209,
   "metadata": {},
   "outputs": [],
   "source": [
    "for i in cols:\n",
    "    service = service.astype({i: float})"
   ]
  },
  {
   "cell_type": "markdown",
   "metadata": {},
   "source": [
    "2018년 INC_A_21 을 제외한 1~34 제거"
   ]
  },
  {
   "cell_type": "code",
   "execution_count": 210,
   "metadata": {},
   "outputs": [],
   "source": [
    "cols2 = ['INC_A_01','INC_A_02','INC_A_03','INC_A_04','INC_A_05','INC_A_06','INC_A_07','INC_A_08','INC_A_09','INC_A_10','INC_A_11','INC_A_12','INC_A_13','INC_A_14','INC_A_15','INC_A_16','INC_A_17','INC_A_18','INC_A_19','INC_A_20','INC_A_22','INC_A_23','INC_A_24','INC_A_25','INC_A_26','INC_A_27','INC_A_28','INC_A_29','INC_A_30','INC_A_31','INC_A_32','INC_A_33','INC_A_34']\n",
    "service.drop(service[cols2],axis='columns',inplace=True)"
   ]
  },
  {
   "cell_type": "markdown",
   "metadata": {},
   "source": [
    "y 변수 생성을 위한 결측치 제거"
   ]
  },
  {
   "cell_type": "code",
   "execution_count": 211,
   "metadata": {},
   "outputs": [],
   "source": [
    "service.INC_A_21 = service.INC_A_21.fillna(service.INC_A_21.mean())"
   ]
  },
  {
   "cell_type": "markdown",
   "metadata": {},
   "source": [
    "y변수 생성\n",
    "즉 성장률"
   ]
  },
  {
   "cell_type": "code",
   "execution_count": 212,
   "metadata": {},
   "outputs": [],
   "source": [
    "service['y']=(service['INC_A_21']-service['INC_A_61'])/service['INC_A_61']"
   ]
  },
  {
   "cell_type": "markdown",
   "metadata": {},
   "source": [
    "손익계산서 변수 中 독립적인 변수만 추출\n",
    "\n",
    "제거된 변수\n",
    "*영업손익과 관련된 변수 매출 총손익(41+42) -  판매비와 관리비(45~60까지의 합)\n",
    "*영업외 수익 : 이자수익 + 외환차익 및 외화환산이익 + 기타 영업외 수익 (63+64+65)\n",
    "*영업외 비용 : 이자비용 + 외환차손 및 외화환산손실 + 기타 영업외 비용 (67+68+69)\n",
    "*법인세 비용차감 전 계속사업손익 (61+62-66)\n",
    "*계속사업손익 (70-71)\n",
    "*당기순손익 (72+73)\n",
    "*17년 영업 손익"
   ]
  },
  {
   "cell_type": "code",
   "execution_count": 213,
   "metadata": {},
   "outputs": [],
   "source": [
    "cols3= ['INC_A_41','INC_A_42','INC_A_45','INC_A_46','INC_A_47','INC_A_48','INC_A_49','INC_A_50','INC_A_51','INC_A_52','INC_A_53','INC_A_54','INC_A_55','INC_A_56','INC_A_57','INC_A_58','INC_A_59','INC_A_60','INC_A_61','INC_A_63','INC_A_64','INC_A_65','INC_A_67','INC_A_68','INC_A_69','INC_A_71','INC_A_73','y']\n",
    "service = service[cols3]"
   ]
  },
  {
   "cell_type": "markdown",
   "metadata": {},
   "source": [
    "결측치 처리"
   ]
  },
  {
   "cell_type": "code",
   "execution_count": 214,
   "metadata": {},
   "outputs": [
    {
     "data": {
      "text/plain": [
       "INC_A_41    0\n",
       "INC_A_42    0\n",
       "INC_A_45    0\n",
       "INC_A_46    0\n",
       "INC_A_47    0\n",
       "INC_A_48    0\n",
       "INC_A_49    0\n",
       "INC_A_50    0\n",
       "INC_A_51    0\n",
       "INC_A_52    0\n",
       "INC_A_53    0\n",
       "INC_A_54    0\n",
       "INC_A_55    0\n",
       "INC_A_56    0\n",
       "INC_A_57    0\n",
       "INC_A_58    0\n",
       "INC_A_59    0\n",
       "INC_A_60    0\n",
       "INC_A_61    0\n",
       "INC_A_63    0\n",
       "INC_A_64    0\n",
       "INC_A_65    0\n",
       "INC_A_67    0\n",
       "INC_A_68    0\n",
       "INC_A_69    0\n",
       "INC_A_71    0\n",
       "INC_A_73    0\n",
       "y           0\n",
       "dtype: int64"
      ]
     },
     "execution_count": 214,
     "metadata": {},
     "output_type": "execute_result"
    }
   ],
   "source": [
    "service.isnull().sum()"
   ]
  },
  {
   "cell_type": "markdown",
   "metadata": {},
   "source": [
    "8500개의 데이터 中 결측치 비율이 높은 변수 제거"
   ]
  },
  {
   "cell_type": "code",
   "execution_count": 215,
   "metadata": {},
   "outputs": [],
   "source": [
    "delete_na = ['INC_A_53','INC_A_54', 'INC_A_58', 'INC_A_59', 'INC_A_64', 'INC_A_68', 'INC_A_73']\n",
    "service.drop(service[delete_na],axis='columns',inplace=True)"
   ]
  },
  {
   "cell_type": "markdown",
   "metadata": {},
   "source": [
    "결측치 대체 *일단 평균으로 대체"
   ]
  },
  {
   "cell_type": "code",
   "execution_count": 216,
   "metadata": {},
   "outputs": [],
   "source": [
    "for i in service.columns:\n",
    "    service[i] = service[i].fillna(service[i].mean())"
   ]
  },
  {
   "cell_type": "code",
   "execution_count": 217,
   "metadata": {},
   "outputs": [
    {
     "data": {
      "text/html": [
       "<div>\n",
       "<style scoped>\n",
       "    .dataframe tbody tr th:only-of-type {\n",
       "        vertical-align: middle;\n",
       "    }\n",
       "\n",
       "    .dataframe tbody tr th {\n",
       "        vertical-align: top;\n",
       "    }\n",
       "\n",
       "    .dataframe thead th {\n",
       "        text-align: right;\n",
       "    }\n",
       "</style>\n",
       "<table border=\"1\" class=\"dataframe\">\n",
       "  <thead>\n",
       "    <tr style=\"text-align: right;\">\n",
       "      <th></th>\n",
       "      <th>INC_A_41</th>\n",
       "      <th>INC_A_42</th>\n",
       "      <th>INC_A_45</th>\n",
       "      <th>INC_A_46</th>\n",
       "      <th>INC_A_47</th>\n",
       "      <th>INC_A_48</th>\n",
       "      <th>INC_A_49</th>\n",
       "      <th>INC_A_50</th>\n",
       "      <th>INC_A_51</th>\n",
       "      <th>INC_A_52</th>\n",
       "      <th>...</th>\n",
       "      <th>INC_A_56</th>\n",
       "      <th>INC_A_57</th>\n",
       "      <th>INC_A_60</th>\n",
       "      <th>INC_A_61</th>\n",
       "      <th>INC_A_63</th>\n",
       "      <th>INC_A_65</th>\n",
       "      <th>INC_A_67</th>\n",
       "      <th>INC_A_69</th>\n",
       "      <th>INC_A_71</th>\n",
       "      <th>y</th>\n",
       "    </tr>\n",
       "    <tr>\n",
       "      <th>global_id</th>\n",
       "      <th></th>\n",
       "      <th></th>\n",
       "      <th></th>\n",
       "      <th></th>\n",
       "      <th></th>\n",
       "      <th></th>\n",
       "      <th></th>\n",
       "      <th></th>\n",
       "      <th></th>\n",
       "      <th></th>\n",
       "      <th></th>\n",
       "      <th></th>\n",
       "      <th></th>\n",
       "      <th></th>\n",
       "      <th></th>\n",
       "      <th></th>\n",
       "      <th></th>\n",
       "      <th></th>\n",
       "      <th></th>\n",
       "      <th></th>\n",
       "      <th></th>\n",
       "    </tr>\n",
       "  </thead>\n",
       "  <tbody>\n",
       "    <tr>\n",
       "      <th>114801</th>\n",
       "      <td>725134.0</td>\n",
       "      <td>615478.0</td>\n",
       "      <td>23999.0</td>\n",
       "      <td>0.0</td>\n",
       "      <td>6223.0</td>\n",
       "      <td>13900.0</td>\n",
       "      <td>3590.0</td>\n",
       "      <td>0.0</td>\n",
       "      <td>6983.0</td>\n",
       "      <td>0.0</td>\n",
       "      <td>...</td>\n",
       "      <td>127.0</td>\n",
       "      <td>0.0</td>\n",
       "      <td>5155.0</td>\n",
       "      <td>49575.0</td>\n",
       "      <td>0.0</td>\n",
       "      <td>0.0</td>\n",
       "      <td>2845.0</td>\n",
       "      <td>0.0</td>\n",
       "      <td>0.0</td>\n",
       "      <td>-0.314251</td>\n",
       "    </tr>\n",
       "    <tr>\n",
       "      <th>114802</th>\n",
       "      <td>525910.0</td>\n",
       "      <td>395442.0</td>\n",
       "      <td>0.0</td>\n",
       "      <td>0.0</td>\n",
       "      <td>0.0</td>\n",
       "      <td>0.0</td>\n",
       "      <td>13800.0</td>\n",
       "      <td>0.0</td>\n",
       "      <td>0.0</td>\n",
       "      <td>0.0</td>\n",
       "      <td>...</td>\n",
       "      <td>0.0</td>\n",
       "      <td>1324.0</td>\n",
       "      <td>19138.0</td>\n",
       "      <td>95502.0</td>\n",
       "      <td>0.0</td>\n",
       "      <td>0.0</td>\n",
       "      <td>0.0</td>\n",
       "      <td>12792.0</td>\n",
       "      <td>0.0</td>\n",
       "      <td>0.012722</td>\n",
       "    </tr>\n",
       "    <tr>\n",
       "      <th>114803</th>\n",
       "      <td>1104469.0</td>\n",
       "      <td>923031.0</td>\n",
       "      <td>15400.0</td>\n",
       "      <td>0.0</td>\n",
       "      <td>6518.0</td>\n",
       "      <td>20160.0</td>\n",
       "      <td>9427.0</td>\n",
       "      <td>3293.0</td>\n",
       "      <td>3471.0</td>\n",
       "      <td>0.0</td>\n",
       "      <td>...</td>\n",
       "      <td>3165.0</td>\n",
       "      <td>8132.0</td>\n",
       "      <td>12449.0</td>\n",
       "      <td>97361.0</td>\n",
       "      <td>84.0</td>\n",
       "      <td>1106.0</td>\n",
       "      <td>10808.0</td>\n",
       "      <td>119.0</td>\n",
       "      <td>0.0</td>\n",
       "      <td>-0.441214</td>\n",
       "    </tr>\n",
       "    <tr>\n",
       "      <th>114804</th>\n",
       "      <td>2446117.0</td>\n",
       "      <td>1912844.0</td>\n",
       "      <td>303087.0</td>\n",
       "      <td>0.0</td>\n",
       "      <td>25891.0</td>\n",
       "      <td>0.0</td>\n",
       "      <td>29474.0</td>\n",
       "      <td>22570.0</td>\n",
       "      <td>19859.0</td>\n",
       "      <td>0.0</td>\n",
       "      <td>...</td>\n",
       "      <td>23708.0</td>\n",
       "      <td>20735.0</td>\n",
       "      <td>280004.0</td>\n",
       "      <td>-253040.0</td>\n",
       "      <td>3262.0</td>\n",
       "      <td>378308.0</td>\n",
       "      <td>97098.0</td>\n",
       "      <td>8578.0</td>\n",
       "      <td>2805.0</td>\n",
       "      <td>-1.147826</td>\n",
       "    </tr>\n",
       "    <tr>\n",
       "      <th>114805</th>\n",
       "      <td>31663846.0</td>\n",
       "      <td>23461410.0</td>\n",
       "      <td>2883640.0</td>\n",
       "      <td>233925.0</td>\n",
       "      <td>113696.0</td>\n",
       "      <td>142144.0</td>\n",
       "      <td>40621.0</td>\n",
       "      <td>279132.0</td>\n",
       "      <td>175023.0</td>\n",
       "      <td>361073.0</td>\n",
       "      <td>...</td>\n",
       "      <td>409085.0</td>\n",
       "      <td>182336.0</td>\n",
       "      <td>1474045.0</td>\n",
       "      <td>854234.0</td>\n",
       "      <td>367.0</td>\n",
       "      <td>439217.0</td>\n",
       "      <td>93836.0</td>\n",
       "      <td>258338.0</td>\n",
       "      <td>159144.0</td>\n",
       "      <td>0.264360</td>\n",
       "    </tr>\n",
       "    <tr>\n",
       "      <th>114806</th>\n",
       "      <td>7791150.0</td>\n",
       "      <td>3247837.0</td>\n",
       "      <td>1342832.0</td>\n",
       "      <td>75054.0</td>\n",
       "      <td>79132.0</td>\n",
       "      <td>1530790.0</td>\n",
       "      <td>17299.0</td>\n",
       "      <td>51984.0</td>\n",
       "      <td>54696.0</td>\n",
       "      <td>132987.0</td>\n",
       "      <td>...</td>\n",
       "      <td>35476.0</td>\n",
       "      <td>22098.0</td>\n",
       "      <td>816668.0</td>\n",
       "      <td>288337.0</td>\n",
       "      <td>6.0</td>\n",
       "      <td>12567.0</td>\n",
       "      <td>36301.0</td>\n",
       "      <td>453.0</td>\n",
       "      <td>17066.0</td>\n",
       "      <td>-0.468355</td>\n",
       "    </tr>\n",
       "    <tr>\n",
       "      <th>114807</th>\n",
       "      <td>7397089.0</td>\n",
       "      <td>3775244.0</td>\n",
       "      <td>692928.0</td>\n",
       "      <td>67248.0</td>\n",
       "      <td>66927.0</td>\n",
       "      <td>1337827.0</td>\n",
       "      <td>22775.0</td>\n",
       "      <td>9930.0</td>\n",
       "      <td>4262.0</td>\n",
       "      <td>19636.0</td>\n",
       "      <td>...</td>\n",
       "      <td>70343.0</td>\n",
       "      <td>19998.0</td>\n",
       "      <td>770348.0</td>\n",
       "      <td>377504.0</td>\n",
       "      <td>361.0</td>\n",
       "      <td>67879.0</td>\n",
       "      <td>63899.0</td>\n",
       "      <td>168.0</td>\n",
       "      <td>41740.0</td>\n",
       "      <td>-0.254424</td>\n",
       "    </tr>\n",
       "    <tr>\n",
       "      <th>114808</th>\n",
       "      <td>1005543.0</td>\n",
       "      <td>627184.0</td>\n",
       "      <td>205661.0</td>\n",
       "      <td>10514.0</td>\n",
       "      <td>7412.0</td>\n",
       "      <td>0.0</td>\n",
       "      <td>5705.0</td>\n",
       "      <td>957.0</td>\n",
       "      <td>4081.0</td>\n",
       "      <td>4600.0</td>\n",
       "      <td>...</td>\n",
       "      <td>4722.0</td>\n",
       "      <td>14383.0</td>\n",
       "      <td>26453.0</td>\n",
       "      <td>93254.0</td>\n",
       "      <td>21197.0</td>\n",
       "      <td>131.0</td>\n",
       "      <td>43342.0</td>\n",
       "      <td>329.0</td>\n",
       "      <td>0.0</td>\n",
       "      <td>0.263592</td>\n",
       "    </tr>\n",
       "  </tbody>\n",
       "</table>\n",
       "<p>8 rows × 21 columns</p>\n",
       "</div>"
      ],
      "text/plain": [
       "             INC_A_41    INC_A_42   INC_A_45  INC_A_46  INC_A_47   INC_A_48  \\\n",
       "global_id                                                                     \n",
       "114801       725134.0    615478.0    23999.0       0.0    6223.0    13900.0   \n",
       "114802       525910.0    395442.0        0.0       0.0       0.0        0.0   \n",
       "114803      1104469.0    923031.0    15400.0       0.0    6518.0    20160.0   \n",
       "114804      2446117.0   1912844.0   303087.0       0.0   25891.0        0.0   \n",
       "114805     31663846.0  23461410.0  2883640.0  233925.0  113696.0   142144.0   \n",
       "114806      7791150.0   3247837.0  1342832.0   75054.0   79132.0  1530790.0   \n",
       "114807      7397089.0   3775244.0   692928.0   67248.0   66927.0  1337827.0   \n",
       "114808      1005543.0    627184.0   205661.0   10514.0    7412.0        0.0   \n",
       "\n",
       "           INC_A_49  INC_A_50  INC_A_51  INC_A_52  ...  INC_A_56  INC_A_57  \\\n",
       "global_id                                          ...                       \n",
       "114801       3590.0       0.0    6983.0       0.0  ...     127.0       0.0   \n",
       "114802      13800.0       0.0       0.0       0.0  ...       0.0    1324.0   \n",
       "114803       9427.0    3293.0    3471.0       0.0  ...    3165.0    8132.0   \n",
       "114804      29474.0   22570.0   19859.0       0.0  ...   23708.0   20735.0   \n",
       "114805      40621.0  279132.0  175023.0  361073.0  ...  409085.0  182336.0   \n",
       "114806      17299.0   51984.0   54696.0  132987.0  ...   35476.0   22098.0   \n",
       "114807      22775.0    9930.0    4262.0   19636.0  ...   70343.0   19998.0   \n",
       "114808       5705.0     957.0    4081.0    4600.0  ...    4722.0   14383.0   \n",
       "\n",
       "            INC_A_60  INC_A_61  INC_A_63  INC_A_65  INC_A_67  INC_A_69  \\\n",
       "global_id                                                                \n",
       "114801        5155.0   49575.0       0.0       0.0    2845.0       0.0   \n",
       "114802       19138.0   95502.0       0.0       0.0       0.0   12792.0   \n",
       "114803       12449.0   97361.0      84.0    1106.0   10808.0     119.0   \n",
       "114804      280004.0 -253040.0    3262.0  378308.0   97098.0    8578.0   \n",
       "114805     1474045.0  854234.0     367.0  439217.0   93836.0  258338.0   \n",
       "114806      816668.0  288337.0       6.0   12567.0   36301.0     453.0   \n",
       "114807      770348.0  377504.0     361.0   67879.0   63899.0     168.0   \n",
       "114808       26453.0   93254.0   21197.0     131.0   43342.0     329.0   \n",
       "\n",
       "           INC_A_71         y  \n",
       "global_id                      \n",
       "114801          0.0 -0.314251  \n",
       "114802          0.0  0.012722  \n",
       "114803          0.0 -0.441214  \n",
       "114804       2805.0 -1.147826  \n",
       "114805     159144.0  0.264360  \n",
       "114806      17066.0 -0.468355  \n",
       "114807      41740.0 -0.254424  \n",
       "114808          0.0  0.263592  \n",
       "\n",
       "[8 rows x 21 columns]"
      ]
     },
     "execution_count": 217,
     "metadata": {},
     "output_type": "execute_result"
    }
   ],
   "source": [
    "service.head(8)"
   ]
  },
  {
   "cell_type": "code",
   "execution_count": 218,
   "metadata": {},
   "outputs": [
    {
     "data": {
      "text/plain": [
       "count    7500.000000\n",
       "mean        0.317133\n",
       "std        30.467553\n",
       "min      -759.761905\n",
       "25%        -0.503774\n",
       "50%        -0.090626\n",
       "75%         0.289683\n",
       "max      1839.645244\n",
       "Name: y, dtype: float64"
      ]
     },
     "execution_count": 218,
     "metadata": {},
     "output_type": "execute_result"
    }
   ],
   "source": [
    "service.y.describe()"
   ]
  },
  {
   "cell_type": "markdown",
   "metadata": {},
   "source": [
    "y 값 범주화 (상위 25% '1', 그 외 '0')"
   ]
  },
  {
   "cell_type": "code",
   "execution_count": 219,
   "metadata": {},
   "outputs": [],
   "source": [
    "service['y2']=service['y'] >= 0.289683\n",
    "service['y2']=service['y2'].astype(float)\n",
    "service['y2']=service['y2'].astype(str)"
   ]
  },
  {
   "cell_type": "code",
   "execution_count": 220,
   "metadata": {},
   "outputs": [],
   "source": [
    "service['y3']=service['y'] >= 0\n",
    "service['y3']=service['y3'].astype(float)\n",
    "service['y3']=service['y3'].astype(str)"
   ]
  },
  {
   "cell_type": "markdown",
   "metadata": {},
   "source": [
    "한 것\n",
    "\n",
    "\n",
    "\n",
    "변수 제거, 결측치 제거+대체, Y생성 ('y'는 본래 수치형 y, 'y2'는 y의 상위 25% 범주형으로 바꿈) "
   ]
  },
  {
   "cell_type": "code",
   "execution_count": 221,
   "metadata": {},
   "outputs": [
    {
     "data": {
      "text/html": [
       "<div>\n",
       "<style scoped>\n",
       "    .dataframe tbody tr th:only-of-type {\n",
       "        vertical-align: middle;\n",
       "    }\n",
       "\n",
       "    .dataframe tbody tr th {\n",
       "        vertical-align: top;\n",
       "    }\n",
       "\n",
       "    .dataframe thead th {\n",
       "        text-align: right;\n",
       "    }\n",
       "</style>\n",
       "<table border=\"1\" class=\"dataframe\">\n",
       "  <thead>\n",
       "    <tr style=\"text-align: right;\">\n",
       "      <th></th>\n",
       "      <th>INC_A_41</th>\n",
       "      <th>INC_A_42</th>\n",
       "      <th>INC_A_45</th>\n",
       "      <th>INC_A_46</th>\n",
       "      <th>INC_A_47</th>\n",
       "      <th>INC_A_48</th>\n",
       "      <th>INC_A_49</th>\n",
       "      <th>INC_A_50</th>\n",
       "      <th>INC_A_51</th>\n",
       "      <th>INC_A_52</th>\n",
       "      <th>...</th>\n",
       "      <th>INC_A_60</th>\n",
       "      <th>INC_A_61</th>\n",
       "      <th>INC_A_63</th>\n",
       "      <th>INC_A_65</th>\n",
       "      <th>INC_A_67</th>\n",
       "      <th>INC_A_69</th>\n",
       "      <th>INC_A_71</th>\n",
       "      <th>y</th>\n",
       "      <th>y2</th>\n",
       "      <th>y3</th>\n",
       "    </tr>\n",
       "    <tr>\n",
       "      <th>global_id</th>\n",
       "      <th></th>\n",
       "      <th></th>\n",
       "      <th></th>\n",
       "      <th></th>\n",
       "      <th></th>\n",
       "      <th></th>\n",
       "      <th></th>\n",
       "      <th></th>\n",
       "      <th></th>\n",
       "      <th></th>\n",
       "      <th></th>\n",
       "      <th></th>\n",
       "      <th></th>\n",
       "      <th></th>\n",
       "      <th></th>\n",
       "      <th></th>\n",
       "      <th></th>\n",
       "      <th></th>\n",
       "      <th></th>\n",
       "      <th></th>\n",
       "      <th></th>\n",
       "    </tr>\n",
       "  </thead>\n",
       "  <tbody>\n",
       "    <tr>\n",
       "      <th>114801</th>\n",
       "      <td>725134.0</td>\n",
       "      <td>615478.0</td>\n",
       "      <td>23999.0</td>\n",
       "      <td>0.0</td>\n",
       "      <td>6223.0</td>\n",
       "      <td>13900.0</td>\n",
       "      <td>3590.0</td>\n",
       "      <td>0.0</td>\n",
       "      <td>6983.0</td>\n",
       "      <td>0.0</td>\n",
       "      <td>...</td>\n",
       "      <td>5155.0</td>\n",
       "      <td>49575.0</td>\n",
       "      <td>0.0</td>\n",
       "      <td>0.0</td>\n",
       "      <td>2845.0</td>\n",
       "      <td>0.0</td>\n",
       "      <td>0.0</td>\n",
       "      <td>-0.314251</td>\n",
       "      <td>0.0</td>\n",
       "      <td>0.0</td>\n",
       "    </tr>\n",
       "    <tr>\n",
       "      <th>114802</th>\n",
       "      <td>525910.0</td>\n",
       "      <td>395442.0</td>\n",
       "      <td>0.0</td>\n",
       "      <td>0.0</td>\n",
       "      <td>0.0</td>\n",
       "      <td>0.0</td>\n",
       "      <td>13800.0</td>\n",
       "      <td>0.0</td>\n",
       "      <td>0.0</td>\n",
       "      <td>0.0</td>\n",
       "      <td>...</td>\n",
       "      <td>19138.0</td>\n",
       "      <td>95502.0</td>\n",
       "      <td>0.0</td>\n",
       "      <td>0.0</td>\n",
       "      <td>0.0</td>\n",
       "      <td>12792.0</td>\n",
       "      <td>0.0</td>\n",
       "      <td>0.012722</td>\n",
       "      <td>0.0</td>\n",
       "      <td>1.0</td>\n",
       "    </tr>\n",
       "    <tr>\n",
       "      <th>114803</th>\n",
       "      <td>1104469.0</td>\n",
       "      <td>923031.0</td>\n",
       "      <td>15400.0</td>\n",
       "      <td>0.0</td>\n",
       "      <td>6518.0</td>\n",
       "      <td>20160.0</td>\n",
       "      <td>9427.0</td>\n",
       "      <td>3293.0</td>\n",
       "      <td>3471.0</td>\n",
       "      <td>0.0</td>\n",
       "      <td>...</td>\n",
       "      <td>12449.0</td>\n",
       "      <td>97361.0</td>\n",
       "      <td>84.0</td>\n",
       "      <td>1106.0</td>\n",
       "      <td>10808.0</td>\n",
       "      <td>119.0</td>\n",
       "      <td>0.0</td>\n",
       "      <td>-0.441214</td>\n",
       "      <td>0.0</td>\n",
       "      <td>0.0</td>\n",
       "    </tr>\n",
       "    <tr>\n",
       "      <th>114804</th>\n",
       "      <td>2446117.0</td>\n",
       "      <td>1912844.0</td>\n",
       "      <td>303087.0</td>\n",
       "      <td>0.0</td>\n",
       "      <td>25891.0</td>\n",
       "      <td>0.0</td>\n",
       "      <td>29474.0</td>\n",
       "      <td>22570.0</td>\n",
       "      <td>19859.0</td>\n",
       "      <td>0.0</td>\n",
       "      <td>...</td>\n",
       "      <td>280004.0</td>\n",
       "      <td>-253040.0</td>\n",
       "      <td>3262.0</td>\n",
       "      <td>378308.0</td>\n",
       "      <td>97098.0</td>\n",
       "      <td>8578.0</td>\n",
       "      <td>2805.0</td>\n",
       "      <td>-1.147826</td>\n",
       "      <td>0.0</td>\n",
       "      <td>0.0</td>\n",
       "    </tr>\n",
       "    <tr>\n",
       "      <th>114805</th>\n",
       "      <td>31663846.0</td>\n",
       "      <td>23461410.0</td>\n",
       "      <td>2883640.0</td>\n",
       "      <td>233925.0</td>\n",
       "      <td>113696.0</td>\n",
       "      <td>142144.0</td>\n",
       "      <td>40621.0</td>\n",
       "      <td>279132.0</td>\n",
       "      <td>175023.0</td>\n",
       "      <td>361073.0</td>\n",
       "      <td>...</td>\n",
       "      <td>1474045.0</td>\n",
       "      <td>854234.0</td>\n",
       "      <td>367.0</td>\n",
       "      <td>439217.0</td>\n",
       "      <td>93836.0</td>\n",
       "      <td>258338.0</td>\n",
       "      <td>159144.0</td>\n",
       "      <td>0.264360</td>\n",
       "      <td>0.0</td>\n",
       "      <td>1.0</td>\n",
       "    </tr>\n",
       "    <tr>\n",
       "      <th>114806</th>\n",
       "      <td>7791150.0</td>\n",
       "      <td>3247837.0</td>\n",
       "      <td>1342832.0</td>\n",
       "      <td>75054.0</td>\n",
       "      <td>79132.0</td>\n",
       "      <td>1530790.0</td>\n",
       "      <td>17299.0</td>\n",
       "      <td>51984.0</td>\n",
       "      <td>54696.0</td>\n",
       "      <td>132987.0</td>\n",
       "      <td>...</td>\n",
       "      <td>816668.0</td>\n",
       "      <td>288337.0</td>\n",
       "      <td>6.0</td>\n",
       "      <td>12567.0</td>\n",
       "      <td>36301.0</td>\n",
       "      <td>453.0</td>\n",
       "      <td>17066.0</td>\n",
       "      <td>-0.468355</td>\n",
       "      <td>0.0</td>\n",
       "      <td>0.0</td>\n",
       "    </tr>\n",
       "    <tr>\n",
       "      <th>114807</th>\n",
       "      <td>7397089.0</td>\n",
       "      <td>3775244.0</td>\n",
       "      <td>692928.0</td>\n",
       "      <td>67248.0</td>\n",
       "      <td>66927.0</td>\n",
       "      <td>1337827.0</td>\n",
       "      <td>22775.0</td>\n",
       "      <td>9930.0</td>\n",
       "      <td>4262.0</td>\n",
       "      <td>19636.0</td>\n",
       "      <td>...</td>\n",
       "      <td>770348.0</td>\n",
       "      <td>377504.0</td>\n",
       "      <td>361.0</td>\n",
       "      <td>67879.0</td>\n",
       "      <td>63899.0</td>\n",
       "      <td>168.0</td>\n",
       "      <td>41740.0</td>\n",
       "      <td>-0.254424</td>\n",
       "      <td>0.0</td>\n",
       "      <td>0.0</td>\n",
       "    </tr>\n",
       "    <tr>\n",
       "      <th>114808</th>\n",
       "      <td>1005543.0</td>\n",
       "      <td>627184.0</td>\n",
       "      <td>205661.0</td>\n",
       "      <td>10514.0</td>\n",
       "      <td>7412.0</td>\n",
       "      <td>0.0</td>\n",
       "      <td>5705.0</td>\n",
       "      <td>957.0</td>\n",
       "      <td>4081.0</td>\n",
       "      <td>4600.0</td>\n",
       "      <td>...</td>\n",
       "      <td>26453.0</td>\n",
       "      <td>93254.0</td>\n",
       "      <td>21197.0</td>\n",
       "      <td>131.0</td>\n",
       "      <td>43342.0</td>\n",
       "      <td>329.0</td>\n",
       "      <td>0.0</td>\n",
       "      <td>0.263592</td>\n",
       "      <td>0.0</td>\n",
       "      <td>1.0</td>\n",
       "    </tr>\n",
       "  </tbody>\n",
       "</table>\n",
       "<p>8 rows × 23 columns</p>\n",
       "</div>"
      ],
      "text/plain": [
       "             INC_A_41    INC_A_42   INC_A_45  INC_A_46  INC_A_47   INC_A_48  \\\n",
       "global_id                                                                     \n",
       "114801       725134.0    615478.0    23999.0       0.0    6223.0    13900.0   \n",
       "114802       525910.0    395442.0        0.0       0.0       0.0        0.0   \n",
       "114803      1104469.0    923031.0    15400.0       0.0    6518.0    20160.0   \n",
       "114804      2446117.0   1912844.0   303087.0       0.0   25891.0        0.0   \n",
       "114805     31663846.0  23461410.0  2883640.0  233925.0  113696.0   142144.0   \n",
       "114806      7791150.0   3247837.0  1342832.0   75054.0   79132.0  1530790.0   \n",
       "114807      7397089.0   3775244.0   692928.0   67248.0   66927.0  1337827.0   \n",
       "114808      1005543.0    627184.0   205661.0   10514.0    7412.0        0.0   \n",
       "\n",
       "           INC_A_49  INC_A_50  INC_A_51  INC_A_52  ...   INC_A_60  INC_A_61  \\\n",
       "global_id                                          ...                        \n",
       "114801       3590.0       0.0    6983.0       0.0  ...     5155.0   49575.0   \n",
       "114802      13800.0       0.0       0.0       0.0  ...    19138.0   95502.0   \n",
       "114803       9427.0    3293.0    3471.0       0.0  ...    12449.0   97361.0   \n",
       "114804      29474.0   22570.0   19859.0       0.0  ...   280004.0 -253040.0   \n",
       "114805      40621.0  279132.0  175023.0  361073.0  ...  1474045.0  854234.0   \n",
       "114806      17299.0   51984.0   54696.0  132987.0  ...   816668.0  288337.0   \n",
       "114807      22775.0    9930.0    4262.0   19636.0  ...   770348.0  377504.0   \n",
       "114808       5705.0     957.0    4081.0    4600.0  ...    26453.0   93254.0   \n",
       "\n",
       "           INC_A_63  INC_A_65  INC_A_67  INC_A_69  INC_A_71         y   y2  \\\n",
       "global_id                                                                    \n",
       "114801          0.0       0.0    2845.0       0.0       0.0 -0.314251  0.0   \n",
       "114802          0.0       0.0       0.0   12792.0       0.0  0.012722  0.0   \n",
       "114803         84.0    1106.0   10808.0     119.0       0.0 -0.441214  0.0   \n",
       "114804       3262.0  378308.0   97098.0    8578.0    2805.0 -1.147826  0.0   \n",
       "114805        367.0  439217.0   93836.0  258338.0  159144.0  0.264360  0.0   \n",
       "114806          6.0   12567.0   36301.0     453.0   17066.0 -0.468355  0.0   \n",
       "114807        361.0   67879.0   63899.0     168.0   41740.0 -0.254424  0.0   \n",
       "114808      21197.0     131.0   43342.0     329.0       0.0  0.263592  0.0   \n",
       "\n",
       "            y3  \n",
       "global_id       \n",
       "114801     0.0  \n",
       "114802     1.0  \n",
       "114803     0.0  \n",
       "114804     0.0  \n",
       "114805     1.0  \n",
       "114806     0.0  \n",
       "114807     0.0  \n",
       "114808     1.0  \n",
       "\n",
       "[8 rows x 23 columns]"
      ]
     },
     "execution_count": 221,
     "metadata": {},
     "output_type": "execute_result"
    }
   ],
   "source": [
    "service.head(8)"
   ]
  },
  {
   "cell_type": "markdown",
   "metadata": {},
   "source": [
    "## 예측 변수설명\n",
    "- y: 영업이익성장률\n",
    "- y2: 상위 25%기업 여부(1 or 0)\n",
    "- y3: 성장 여부 (1 or 0)"
   ]
  },
  {
   "cell_type": "markdown",
   "metadata": {},
   "source": [
    "# test train 나누기"
   ]
  },
  {
   "cell_type": "markdown",
   "metadata": {},
   "source": [
    "### 기술통계에 잇는것과 없는것으로 train(겹치지않는것) test (겹치는것) 나누기"
   ]
  },
  {
   "cell_type": "code",
   "execution_count": 222,
   "metadata": {},
   "outputs": [
    {
     "name": "stderr",
     "output_type": "stream",
     "text": [
      "C:\\Users\\user\\Anaconda3\\lib\\site-packages\\ipykernel_launcher.py:10: SettingWithCopyWarning: \n",
      "A value is trying to be set on a copy of a slice from a DataFrame.\n",
      "Try using .loc[row_indexer,col_indexer] = value instead\n",
      "\n",
      "See the caveats in the documentation: http://pandas.pydata.org/pandas-docs/stable/indexing.html#indexing-view-versus-copy\n",
      "  # Remove the CWD from sys.path while we load stuff.\n",
      "C:\\Users\\user\\Anaconda3\\lib\\site-packages\\ipykernel_launcher.py:21: SettingWithCopyWarning: \n",
      "A value is trying to be set on a copy of a slice from a DataFrame.\n",
      "Try using .loc[row_indexer,col_indexer] = value instead\n",
      "\n",
      "See the caveats in the documentation: http://pandas.pydata.org/pandas-docs/stable/indexing.html#indexing-view-versus-copy\n"
     ]
    }
   ],
   "source": [
    "line3=[]\n",
    "for i in service.index:\n",
    "    if i in train.index:\n",
    "        line3.append(i)\n",
    "    else:\n",
    "        line3.append(0)\n",
    "        \n",
    "service_test=service[service.index == line3]\n",
    "\n",
    "service_test['test'] = 1\n",
    "\n",
    "line4=[]\n",
    "for i in service.index:\n",
    "    if not i in train.index:\n",
    "        line4.append(i)\n",
    "    else:\n",
    "        line4.append(0)\n",
    "        \n",
    "service_train=service[service.index == line4]\n",
    "\n",
    "service_train['test'] = 0"
   ]
  },
  {
   "cell_type": "code",
   "execution_count": 223,
   "metadata": {},
   "outputs": [],
   "source": [
    "col_list = ['INC_A_41', 'INC_A_42', 'INC_A_45', 'INC_A_46', 'INC_A_47', 'INC_A_48',\n",
    "       'INC_A_49', 'INC_A_50', 'INC_A_51', 'INC_A_52', 'INC_A_55', 'INC_A_56',\n",
    "       'INC_A_57', 'INC_A_60', 'INC_A_61', 'INC_A_63', 'INC_A_65', 'INC_A_67',\n",
    "       'INC_A_69', 'INC_A_71']\n",
    "train_X = service_train[col_list]\n",
    "train_Y = service_train['y3']\n",
    "test_X = service_test[col_list]\n",
    "test_Y = service_test['y3']"
   ]
  },
  {
   "cell_type": "markdown",
   "metadata": {},
   "source": [
    "## 정규화(로지스팃에서 필수!)"
   ]
  },
  {
   "cell_type": "code",
   "execution_count": 224,
   "metadata": {},
   "outputs": [],
   "source": [
    "from sklearn.preprocessing import StandardScaler\n",
    "\n",
    "scaler = StandardScaler()\n",
    "#fit_transform 은 fit과 transform을 합친 건데, fit은 일단 각 속성(feature)마다 컬럼을 만드는 작업이라고 생각하면 된다. 이후 transform을 통해 데이터를 변형시키는 거다.\n",
    "train_features = scaler.fit_transform(train_X)\n",
    "test_features = scaler.transform(test_X)"
   ]
  },
  {
   "cell_type": "markdown",
   "metadata": {},
   "source": [
    "# 로지스틱회귀분석\n",
    "> http://hleecaster.com/ml-logistic-regression-example/\n",
    "- 여기좋은글 많으니 학습해보기!"
   ]
  },
  {
   "cell_type": "code",
   "execution_count": 225,
   "metadata": {},
   "outputs": [],
   "source": [
    "from sklearn.metrics import confusion_matrix, accuracy_score"
   ]
  },
  {
   "cell_type": "code",
   "execution_count": 226,
   "metadata": {},
   "outputs": [
    {
     "name": "stderr",
     "output_type": "stream",
     "text": [
      "C:\\Users\\user\\Anaconda3\\lib\\site-packages\\sklearn\\linear_model\\logistic.py:432: FutureWarning: Default solver will be changed to 'lbfgs' in 0.22. Specify a solver to silence this warning.\n",
      "  FutureWarning)\n"
     ]
    },
    {
     "name": "stdout",
     "output_type": "stream",
     "text": [
      "train 데이터의 스코어:  0.5654065406540654\n",
      "test 데이터의 스코어:  0.5827338129496403\n"
     ]
    },
    {
     "data": {
      "text/plain": [
       "array([[484,   3],\n",
       "       [345,   2]], dtype=int64)"
      ]
     },
     "execution_count": 226,
     "metadata": {},
     "output_type": "execute_result"
    }
   ],
   "source": [
    "model = LogisticRegression()\n",
    "model.fit(train_features, train_Y)\n",
    "print('train 데이터의 스코어: ', accuracy_score(train_Y, model.predict(train_features)))\n",
    "print('test 데이터의 스코어: ', accuracy_score(test_Y, model.predict(test_features)))\n",
    "confusion_matrix(test_Y, model.predict(test_features))"
   ]
  },
  {
   "cell_type": "code",
   "execution_count": 227,
   "metadata": {},
   "outputs": [
    {
     "name": "stdout",
     "output_type": "stream",
     "text": [
      "INC_A_41 INC_A_42 INC_A_45 INC_A_46 INC_A_47 INC_A_48 INC_A_49 INC_A_50 INC_A_51 INC_A_52 INC_A_55 INC_A_56 INC_A_57 INC_A_60 INC_A_61 INC_A_63 INC_A_65 INC_A_67 INC_A_69 INC_A_71\n",
      "[[-0.66237944  0.47490292  0.06398973 -0.01796747  0.05467939 -0.01529593\n",
      "  -0.01940646 -0.00227755 -0.01326272  0.06035583 -0.11045833  0.03649735\n",
      "  -0.02623278  0.0139909   0.07026184 -0.00337985 -0.004168    0.03984651\n",
      "  -0.01235652 -0.120221  ]]\n"
     ]
    }
   ],
   "source": [
    "print('INC_A_41', 'INC_A_42', 'INC_A_45', 'INC_A_46', 'INC_A_47', 'INC_A_48',\n",
    "       'INC_A_49', 'INC_A_50', 'INC_A_51', 'INC_A_52', 'INC_A_55', 'INC_A_56',\n",
    "       'INC_A_57', 'INC_A_60', 'INC_A_61', 'INC_A_63', 'INC_A_65', 'INC_A_67',\n",
    "       'INC_A_69', 'INC_A_71')\n",
    "print(model.coef_)"
   ]
  },
  {
   "cell_type": "markdown",
   "metadata": {},
   "source": [
    "# Ridge, Lasso\n",
    "> https://brunch.co.kr/@itschloe1/11"
   ]
  },
  {
   "cell_type": "code",
   "execution_count": 228,
   "metadata": {},
   "outputs": [],
   "source": [
    "from sklearn.metrics import r2_score"
   ]
  },
  {
   "cell_type": "code",
   "execution_count": 229,
   "metadata": {},
   "outputs": [
    {
     "name": "stdout",
     "output_type": "stream",
     "text": [
      "train 의 R**2 score: 0.00841315688733335\n",
      "test 의 R**2 score: -0.002110023848042264\n"
     ]
    }
   ],
   "source": [
    "model = Ridge(alpha = 0.05, normalize =True)\n",
    "model.fit(train_X, train_Y)\n",
    "print('train 의 R**2 score:', r2_score(train_Y, model.predict(train_X)))\n",
    "print('test 의 R**2 score:', r2_score(test_Y, model.predict(test_X)))"
   ]
  },
  {
   "cell_type": "code",
   "execution_count": 230,
   "metadata": {},
   "outputs": [
    {
     "name": "stdout",
     "output_type": "stream",
     "text": [
      "train 의 R**2 score: 0.0\n",
      "test 의 R**2 score: -0.0013899197247753126\n"
     ]
    }
   ],
   "source": [
    "model = Lasso(alpha = 0.05, normalize =True)\n",
    "model.fit(train_X, train_Y)\n",
    "print('train 의 R**2 score:', r2_score(train_Y, model.predict(train_X)))\n",
    "print('test 의 R**2 score:', r2_score(test_Y, model.predict(test_X)))"
   ]
  },
  {
   "cell_type": "code",
   "execution_count": 231,
   "metadata": {},
   "outputs": [
    {
     "name": "stdout",
     "output_type": "stream",
     "text": [
      "train 의 R**2 score: 0.0\n",
      "test 의 R**2 score: -0.0013899197247753126\n"
     ]
    }
   ],
   "source": [
    "model = ElasticNet(alpha = 0.05, normalize =True)\n",
    "model.fit(train_X, train_Y)\n",
    "print('train 의 R**2 score:', r2_score(train_Y, model.predict(train_X)))\n",
    "print('test 의 R**2 score:', r2_score(test_Y, model.predict(test_X)))"
   ]
  },
  {
   "cell_type": "markdown",
   "metadata": {},
   "source": [
    "# GBM\n",
    "> https://lsjsj92.tistory.com/544?category=853217"
   ]
  },
  {
   "cell_type": "code",
   "execution_count": 232,
   "metadata": {},
   "outputs": [
    {
     "name": "stdout",
     "output_type": "stream",
     "text": [
      "train 데이터의 스코어:  0.6834683468346835\n",
      "test 데이터의 스코어:  0.6211031175059952\n"
     ]
    },
    {
     "data": {
      "text/plain": [
       "array([[404,  83],\n",
       "       [233, 114]], dtype=int64)"
      ]
     },
     "execution_count": 232,
     "metadata": {},
     "output_type": "execute_result"
    }
   ],
   "source": [
    "model = GradientBoostingClassifier(random_state=0)\n",
    "model.fit(train_X, train_Y)\n",
    "print('train 데이터의 스코어: ', accuracy_score(train_Y, model.predict(train_X)))\n",
    "print('test 데이터의 스코어: ', accuracy_score(test_Y, model.predict(test_X)))\n",
    "confusion_matrix(test_Y, model.predict(test_X))"
   ]
  },
  {
   "cell_type": "markdown",
   "metadata": {},
   "source": [
    "# LGBM\n",
    "> https://lsjsj92.tistory.com/548"
   ]
  },
  {
   "cell_type": "code",
   "execution_count": 233,
   "metadata": {},
   "outputs": [
    {
     "name": "stdout",
     "output_type": "stream",
     "text": [
      "train 데이터의 스코어:  0.9996999699969997\n",
      "test 데이터의 스코어:  0.5911270983213429\n"
     ]
    },
    {
     "data": {
      "text/plain": [
       "array([[352, 135],\n",
       "       [206, 141]], dtype=int64)"
      ]
     },
     "execution_count": 233,
     "metadata": {},
     "output_type": "execute_result"
    }
   ],
   "source": [
    "model =LGBMClassifier(n_estimators = 400)\n",
    "model.fit(train_X, train_Y)\n",
    "print('train 데이터의 스코어: ', accuracy_score(train_Y, model.predict(train_X)))\n",
    "print('test 데이터의 스코어: ', accuracy_score(test_Y, model.predict(test_X)))\n",
    "confusion_matrix(test_Y, model.predict(test_X))"
   ]
  },
  {
   "cell_type": "markdown",
   "metadata": {},
   "source": [
    "\n",
    "# XGBOOST\n",
    "> https://lsjsj92.tistory.com/547\n",
    "- 여기 위에 사이트 좋으니 여러학습법 학습하면좋을듯"
   ]
  },
  {
   "cell_type": "code",
   "execution_count": 236,
   "metadata": {},
   "outputs": [
    {
     "name": "stdout",
     "output_type": "stream",
     "text": [
      "0\n",
      "estimaors: 300, learning_rate: 0.01, max_depth: 4 Score:  0.63189448441247\n",
      "1\n",
      "estimaors: 300, learning_rate: 0.01, max_depth: 5 Score:  0.6235011990407674\n",
      "2\n",
      "estimaors: 300, learning_rate: 0.01, max_depth: 6 Score:  0.617505995203837\n",
      "3\n",
      "estimaors: 300, learning_rate: 0.05, max_depth: 4 Score:  0.6247002398081535\n",
      "4\n",
      "estimaors: 300, learning_rate: 0.05, max_depth: 5 Score:  0.6103117505995204\n",
      "5\n",
      "estimaors: 300, learning_rate: 0.05, max_depth: 6 Score:  0.5983213429256595\n",
      "0 0.63189448441247\n"
     ]
    }
   ],
   "source": [
    "n_estimator = [300]\n",
    "learning_rates = [0.01, 0.05]\n",
    "max_depths = [4, 5, 6]\n",
    "result = []\n",
    "func_count = 0\n",
    "for i in n_estimator:\n",
    "    for j in learning_rates:\n",
    "        for k in max_depths:\n",
    "            print(func_count)\n",
    "            func_count += 1\n",
    "            model = XGBClassifier(n_estimators = i, learning_rate=j,max_depth=k)\n",
    "            model.fit(train_X, train_Y)\n",
    "#             print('{} train 데이터의 스코어: '.format(i), accuracy_score(train_Y, model.predict(train_X)))\n",
    "            print('estimaors: {}, learning_rate: {}, max_depth: {} Score: '.format(i, j, k), accuracy_score(test_Y, model.predict(test_X)))\n",
    "#             print(confusion_matrix(test_Y, model.predict(test_X)))\n",
    "            result.append(accuracy_score(test_Y, model.predict(test_X)))\n",
    "print(result.index(max(result)), max(result))"
   ]
  },
  {
   "cell_type": "code",
   "execution_count": 237,
   "metadata": {},
   "outputs": [
    {
     "name": "stdout",
     "output_type": "stream",
     "text": [
      "0\n",
      "estimaors: 300, learning_rate: 0.01, max_depth: 4 Score:  0.63189448441247\n",
      "[[416  71]\n",
      " [236 111]]\n",
      "0 0.63189448441247\n"
     ]
    }
   ],
   "source": [
    "n_estimator = [300]\n",
    "learning_rates = [0.01]\n",
    "max_depths = [4]\n",
    "result = []\n",
    "func_count = 0\n",
    "for i in n_estimator:\n",
    "    for j in learning_rates:\n",
    "        for k in max_depths:\n",
    "            print(func_count)\n",
    "            func_count += 1\n",
    "            model = XGBClassifier(n_estimators = i, learning_rate=j,max_depth=k)\n",
    "            model.fit(train_X, train_Y)\n",
    "#             print('{} train 데이터의 스코어: '.format(i), accuracy_score(train_Y, model.predict(train_X)))\n",
    "            print('estimaors: {}, learning_rate: {}, max_depth: {} Score: '.format(i, j, k), accuracy_score(test_Y, model.predict(test_X)))\n",
    "            print(confusion_matrix(test_Y, model.predict(test_X)))\n",
    "            result.append(accuracy_score(test_Y, model.predict(test_X)))\n",
    "print(result.index(max(result)), max(result))"
   ]
  },
  {
   "cell_type": "markdown",
   "metadata": {},
   "source": [
    "# 랜덤포레스트"
   ]
  },
  {
   "cell_type": "code",
   "execution_count": 235,
   "metadata": {},
   "outputs": [
    {
     "name": "stdout",
     "output_type": "stream",
     "text": [
      "train 데이터의 스코어:  0.6086108610861086\n",
      "test 데이터의 스코어:  0.5899280575539568\n"
     ]
    },
    {
     "data": {
      "text/plain": [
       "array([[449,  38],\n",
       "       [304,  43]], dtype=int64)"
      ]
     },
     "execution_count": 235,
     "metadata": {},
     "output_type": "execute_result"
    }
   ],
   "source": [
    "model = RandomForestClassifier(n_estimators = 500, max_depth=4)\n",
    "model.fit(train_X, train_Y)\n",
    "print('train 데이터의 스코어: ', accuracy_score(train_Y, model.predict(train_X)))\n",
    "print('test 데이터의 스코어: ', accuracy_score(test_Y, model.predict(test_X)))\n",
    "confusion_matrix(test_Y, model.predict(test_X))"
   ]
  },
  {
   "cell_type": "code",
   "execution_count": null,
   "metadata": {},
   "outputs": [],
   "source": []
  }
 ],
 "metadata": {
  "kernelspec": {
   "display_name": "Python 3",
   "language": "python",
   "name": "python3"
  },
  "language_info": {
   "codemirror_mode": {
    "name": "ipython",
    "version": 3
   },
   "file_extension": ".py",
   "mimetype": "text/x-python",
   "name": "python",
   "nbconvert_exporter": "python",
   "pygments_lexer": "ipython3",
   "version": "3.7.6"
  }
 },
 "nbformat": 4,
 "nbformat_minor": 2
}
