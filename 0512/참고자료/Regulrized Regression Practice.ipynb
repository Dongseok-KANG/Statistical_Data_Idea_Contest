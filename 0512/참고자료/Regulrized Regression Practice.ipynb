{
 "cells": [
  {
   "cell_type": "markdown",
   "metadata": {
    "collapsed": true
   },
   "source": [
    "# 정규화 회귀 모형"
   ]
  },
  {
   "cell_type": "markdown",
   "metadata": {},
   "source": [
    "Multiple Linear Regression 에 이어서 정규화를 사용하는 모형들인 Ridge, Lasso, Elastic Net을 실습해본다.\n",
    "앞서 MLR을 진행할 때와 마찬가지로 scikit-learn으로부터 데이터를 입력받아 모델링을 하는 과정을 진행한다."
   ]
  },
  {
   "cell_type": "markdown",
   "metadata": {},
   "source": [
    "### 패키지 import 및 데이터 load"
   ]
  },
  {
   "cell_type": "markdown",
   "metadata": {},
   "source": [
    "데이터셋의 형태는 딕셔너리 형태로, key가 ['data', 'target', 'target_names', 'DESCR', 'feature_names']으로 구분되어있다. 친절하게 scikit-learn에서는 데이터를 미리 전처리해두어서 data(X, 독립변수), target(Y, 종속변수)로 구분지어놨다."
   ]
  },
  {
   "cell_type": "code",
   "execution_count": 35,
   "metadata": {},
   "outputs": [
    {
     "name": "stdout",
     "output_type": "stream",
     "text": [
      "dict_keys(['data', 'target'])\n"
     ]
    }
   ],
   "source": [
    "from sklearn import datasets\n",
    "import pandas as pd\n",
    "data = datasets.load_diabetes()\n",
    "print(data.keys())\n"
   ]
  },
  {
   "cell_type": "markdown",
   "metadata": {},
   "source": [
    "입력받은 데이터를 X,Y로 구분하여 처리한다. x 데이터의 형태를 확인하기 위해 아래와 같이 진행한다"
   ]
  },
  {
   "cell_type": "code",
   "execution_count": 36,
   "metadata": {},
   "outputs": [
    {
     "name": "stdout",
     "output_type": "stream",
     "text": [
      "(442, 10)\n"
     ]
    }
   ],
   "source": [
    "X = data.data\n",
    "Y = data.target\n",
    "print(X.shape)"
   ]
  },
  {
   "cell_type": "markdown",
   "metadata": {},
   "source": [
    "### 데이터 분할"
   ]
  },
  {
   "cell_type": "markdown",
   "metadata": {},
   "source": [
    "데이터 분할은 scikit-learn에서 제공하는 train_test_split을 이용하면 편리하다. 아래와 같이 split을 하게되면 하나의 데이터로 부터 특정 비율만큼을 트레이닝셋으로, 나머지를 테스트셋으로 구분하여 활용할 수 있다."
   ]
  },
  {
   "cell_type": "code",
   "execution_count": 17,
   "metadata": {
    "collapsed": true
   },
   "outputs": [],
   "source": [
    "from sklearn.model_selection import train_test_split"
   ]
  },
  {
   "cell_type": "code",
   "execution_count": 18,
   "metadata": {
    "scrolled": false
   },
   "outputs": [
    {
     "data": {
      "text/plain": [
       "((309, 10), (133, 10), (309,), (133,))"
      ]
     },
     "execution_count": 18,
     "metadata": {},
     "output_type": "execute_result"
    }
   ],
   "source": [
    "X_train, X_test, Y_train, Y_test = train_test_split(X, Y, test_size=0.3, random_state=0)\n",
    "X_train.shape, X_test.shape, Y_train.shape, Y_test.shape"
   ]
  },
  {
   "cell_type": "markdown",
   "metadata": {},
   "source": [
    "### Training Model"
   ]
  },
  {
   "cell_type": "code",
   "execution_count": 19,
   "metadata": {
    "collapsed": true
   },
   "outputs": [],
   "source": [
    "import numpy as np\n",
    "from sklearn.linear_model import LinearRegression\n",
    "from sklearn.linear_model import Lasso, Ridge, ElasticNet\n"
   ]
  },
  {
   "cell_type": "markdown",
   "metadata": {},
   "source": [
    "scikit-learn에서의 모델 트레이닝은 매우 간단한데, 아래와 같이 특정 모델의 객체를 생성 한 후, 각 객체에 공통적으로 존재하는 fit함수를 사용하면 주어진 데이터에 대해서 학습을 진행한다."
   ]
  },
  {
   "cell_type": "code",
   "execution_count": 26,
   "metadata": {
    "collapsed": true
   },
   "outputs": [],
   "source": [
    "mlr = LinearRegression()\n",
    "lasso = Lasso(alpha=0.1)\n",
    "ridge = Ridge(alpha=0.1)\n",
    "ela = ElasticNet(alpha=1.0 , l1_ratio=0.5)"
   ]
  },
  {
   "cell_type": "code",
   "execution_count": 27,
   "metadata": {},
   "outputs": [
    {
     "data": {
      "text/plain": [
       "ElasticNet(alpha=1.0, copy_X=True, fit_intercept=True, l1_ratio=0.5,\n",
       "      max_iter=1000, normalize=False, positive=False, precompute=False,\n",
       "      random_state=None, selection='cyclic', tol=0.0001, warm_start=False)"
      ]
     },
     "execution_count": 27,
     "metadata": {},
     "output_type": "execute_result"
    }
   ],
   "source": [
    "mlr.fit(X_train, Y_train)\n",
    "lasso.fit(X_train, Y_train)\n",
    "ridge.fit(X_train, Y_train)\n",
    "ela.fit(X_train, Y_train)"
   ]
  },
  {
   "cell_type": "markdown",
   "metadata": {},
   "source": [
    "### 결과 확인 및 분석"
   ]
  },
  {
   "cell_type": "markdown",
   "metadata": {},
   "source": [
    "각 모델의 성능을 확인하기 위해 각 함수별로 존재하는 score함수를 이용한다. score함수는 R-square 값을 반환해주는 함수이다. \n",
    "트레이닝의 성능과 테스트데이터에 대한 성능을 각각 확인한다\n",
    "또한, 다른 모델들에서의 변수 선택 역할을 확인하기 위해 모델링에 사용된 변수의 수를 확인하기 위해 계수가 0이 아닌 변수의 수를 합산한다"
   ]
  },
  {
   "cell_type": "code",
   "execution_count": 28,
   "metadata": {
    "scrolled": true
   },
   "outputs": [
    {
     "name": "stdout",
     "output_type": "stream",
     "text": [
      "training score for alpha=0.1: 0.5539411781927147\n",
      "test score for alpha =0.1:  0.3928939845074759\n",
      "number of features used: 10\n"
     ]
    }
   ],
   "source": [
    "# MLR score\n",
    "mlr_train_score=mlr.score(X_train,Y_train)\n",
    "mlr_test_score=mlr.score(X_test,Y_test)\n",
    "mlr_coeff_used = np.sum(mlr.coef_!=0)\n",
    "print (\"training score for alpha=0.1:\", mlr_train_score)\n",
    "print (\"test score for alpha =0.1: \", mlr_test_score)\n",
    "print (\"number of features used:\", mlr_coeff_used)"
   ]
  },
  {
   "cell_type": "code",
   "execution_count": 29,
   "metadata": {},
   "outputs": [
    {
     "name": "stdout",
     "output_type": "stream",
     "text": [
      "training score for alpha=0.1: 0.5483467396437521\n",
      "test score for alpha =0.1:  0.4021292749449725\n",
      "number of features used: for alpha =0.1: 10\n"
     ]
    }
   ],
   "source": [
    "# Ridge score\n",
    "ridge_train_score=ridge.score(X_train,Y_train)\n",
    "ridge_test_score=ridge.score(X_test,Y_test)\n",
    "ridge_coeff_used = np.sum(ridge.coef_!=0)\n",
    "print (\"training score for alpha=0.1:\", ridge_train_score)\n",
    "print (\"test score for alpha =0.1: \", ridge_test_score)\n",
    "print (\"number of features used: for alpha =0.1:\", ridge_coeff_used)"
   ]
  },
  {
   "cell_type": "code",
   "execution_count": 30,
   "metadata": {},
   "outputs": [
    {
     "name": "stdout",
     "output_type": "stream",
     "text": [
      "training score for alpha=0.1: 0.5469887155387941\n",
      "test score for alpha =0.1:  0.38754999548270175\n",
      "number of features used: for alpha =0.1: 7\n"
     ]
    }
   ],
   "source": [
    "# Lasso score\n",
    "lasso_train_score=lasso.score(X_train,Y_train)\n",
    "lasso_test_score=lasso.score(X_test,Y_test)\n",
    "lasso_coeff_used = np.sum(lasso.coef_!=0)\n",
    "print (\"training score for alpha=0.1:\", lasso_train_score)\n",
    "print (\"test score for alpha =0.1: \", lasso_test_score)\n",
    "print (\"number of features used: for alpha =0.1:\", lasso_coeff_used)"
   ]
  },
  {
   "cell_type": "code",
   "execution_count": 31,
   "metadata": {},
   "outputs": [
    {
     "name": "stdout",
     "output_type": "stream",
     "text": [
      "training score for alpha=1 & l1_ratio=0.5: 0.010751863222008828\n",
      "test score for alpha=1 & l1_ratio=0.5:  0.00879606043811132\n",
      "number of features used: for alpha=1 & l1_ratio=0.5: 9\n"
     ]
    }
   ],
   "source": [
    "# ElasticNet score\n",
    "ela_train_score=ela.score(X_train,Y_train)\n",
    "ela_test_score=ela.score(X_test,Y_test)\n",
    "ela_coeff_used = np.sum(ela.coef_!=0)\n",
    "print (\"training score for alpha=1 & l1_ratio=0.5:\", ela_train_score)\n",
    "print (\"test score for alpha=1 & l1_ratio=0.5: \", ela_test_score)\n",
    "print (\"number of features used: for alpha=1 & l1_ratio=0.5:\", ela_coeff_used)"
   ]
  },
  {
   "cell_type": "markdown",
   "metadata": {},
   "source": [
    "위의 결과를 보면, MLR 과 ridge의 경우 기존의 30개의 변수를 모두 사용하고 있지만, Lasso의 경우는 축소되어 5개만 활용하고 있다."
   ]
  },
  {
   "cell_type": "markdown",
   "metadata": {},
   "source": [
    "Lasso의 파라미터인 alpha를 조절해가면서 성능과 사용하는 변수의 수가 어떻게 변해가는지 확인해본다. alpha의 값이 커짐에 따라 선택되는 변수의 수가 줄어들고, 그로인한 정보 손실로 모델의 정확도가 떨어짐을 확인 할 수 있다."
   ]
  },
  {
   "cell_type": "code",
   "execution_count": 32,
   "metadata": {},
   "outputs": [
    {
     "name": "stdout",
     "output_type": "stream",
     "text": [
      "training score for alpha=0.01: 0.5532544496972631\n",
      "test score for alpha =0.01:  0.3878927565620653\n",
      "number of features used: for alpha =0.01: 9\n",
      "==========================================================\n",
      "training score for alpha=0.05: 0.5515636960790138\n",
      "test score for alpha =0.05:  0.3889603446148219\n",
      "number of features used: for alpha =0.05: 8\n",
      "==========================================================\n",
      "training score for alpha=0.1: 0.5469887155387941\n",
      "test score for alpha =0.1:  0.38754999548270175\n",
      "number of features used: for alpha =0.1: 7\n",
      "==========================================================\n",
      "training score for alpha=1: 0.4156569544849771\n",
      "test score for alpha =1:  0.30577836095304145\n",
      "number of features used: for alpha =1: 2\n",
      "==========================================================\n",
      "training score for alpha=10: 0.0\n",
      "test score for alpha =10:  -4.088943807989409e-07\n",
      "number of features used: for alpha =10: 0\n",
      "==========================================================\n"
     ]
    }
   ],
   "source": [
    "alpha_list = [0.01, 0.05, 0.1, 1, 10]\n",
    "for alpha in alpha_list:\n",
    "    lasso = Lasso(alpha=alpha)\n",
    "    lasso.fit(X_train, Y_train)\n",
    "    lasso_train_score=lasso.score(X_train,Y_train)\n",
    "    lasso_test_score=lasso.score(X_test,Y_test)\n",
    "    lasso_coeff_used = np.sum(lasso.coef_!=0)\n",
    "    print (\"training score for alpha={}:\".format(alpha), lasso_train_score)\n",
    "    print (\"test score for alpha ={}: \".format(alpha), lasso_test_score)\n",
    "    print (\"number of features used: for alpha ={}:\".format(alpha), lasso_coeff_used)\n",
    "    print(\"==========================================================\")"
   ]
  },
  {
   "cell_type": "markdown",
   "metadata": {},
   "source": [
    "Elastic Net에서의 l1 ratio 변화에 따라 L1과 L2 정규화의 가중치가 달라지는데, 이에 대한 실험을 진행한다."
   ]
  },
  {
   "cell_type": "code",
   "execution_count": 33,
   "metadata": {},
   "outputs": [
    {
     "name": "stdout",
     "output_type": "stream",
     "text": [
      "training score for l1_ratio=0.2: 0.00838070714792083\n",
      "test score for l1_ratio =0.2:  0.0068681995133402785\n",
      "number of features used: for l1_ratio =0.2: 10\n",
      "==========================================================\n",
      "training score for l1_ratio=0.4: 0.009701852290429303\n",
      "test score for l1_ratio =0.4:  0.007942573471441339\n",
      "number of features used: for l1_ratio =0.4: 9\n",
      "==========================================================\n",
      "training score for l1_ratio=0.6: 0.01231491863910883\n",
      "test score for l1_ratio =0.6:  0.01006632721166345\n",
      "number of features used: for l1_ratio =0.6: 9\n",
      "==========================================================\n",
      "training score for l1_ratio=0.8: 0.02015615128867887\n",
      "test score for l1_ratio =0.8:  0.016479494771337033\n",
      "number of features used: for l1_ratio =0.8: 7\n",
      "==========================================================\n",
      "training score for l1_ratio=1.0: 0.4156569544849771\n",
      "test score for l1_ratio =1.0:  0.30577836095304145\n",
      "number of features used: for l1_ratio =1.0: 2\n",
      "==========================================================\n"
     ]
    }
   ],
   "source": [
    "l1_ratio_list = [0.2, 0.4, 0.6, 0.8, 1.0]\n",
    "for l1_ratio in l1_ratio_list:\n",
    "    ela = ElasticNet(alpha=1, l1_ratio=l1_ratio)\n",
    "    ela.fit(X_train, Y_train)\n",
    "    ela_train_score=ela.score(X_train,Y_train)\n",
    "    ela_test_score=ela.score(X_test,Y_test)\n",
    "    ela_coeff_used = np.sum(ela.coef_!=0)\n",
    "    print (\"training score for l1_ratio={}:\".format(l1_ratio), ela_train_score)\n",
    "    print (\"test score for l1_ratio ={}: \".format(l1_ratio), ela_test_score)\n",
    "    print (\"number of features used: for l1_ratio ={}:\".format(l1_ratio), ela_coeff_used)\n",
    "    print(\"==========================================================\")"
   ]
  },
  {
   "cell_type": "markdown",
   "metadata": {},
   "source": [
    "각 모델의 회귀 계수를 시각적으로 표현해보기로 한다. 이를 하기 위해선 플랏을 그려야하며, matplotlib을 사용한다. jupyter notebook에서는 실시간으로 차트를 확인하기 위해 %matplotlib inline 구문을 추가한다. ridge, lasso 공통으로 alpha를 0.01로 두고 결과를 확인한다."
   ]
  },
  {
   "cell_type": "code",
   "execution_count": 14,
   "metadata": {
    "collapsed": true
   },
   "outputs": [],
   "source": [
    "import matplotlib.pyplot as plt\n",
    "import numpy as np \n",
    "import pandas as pd\n",
    "import matplotlib\n",
    "matplotlib.rcParams.update({'font.size': 12})\n",
    "%matplotlib inline"
   ]
  },
  {
   "cell_type": "code",
   "execution_count": 15,
   "metadata": {},
   "outputs": [
    {
     "data": {
      "text/plain": [
       "Ridge(alpha=0.01, copy_X=True, fit_intercept=True, max_iter=None,\n",
       "   normalize=False, random_state=None, solver='auto', tol=0.001)"
      ]
     },
     "execution_count": 15,
     "metadata": {},
     "output_type": "execute_result"
    }
   ],
   "source": [
    "mlr = LinearRegression()\n",
    "lasso = Lasso(alpha=0.01)\n",
    "ridge = Ridge(alpha=0.01)\n",
    "mlr.fit(X_train, Y_train)\n",
    "lasso.fit(X_train, Y_train)\n",
    "ridge.fit(X_train, Y_train)"
   ]
  },
  {
   "cell_type": "code",
   "execution_count": 16,
   "metadata": {},
   "outputs": [
    {
     "data": {
      "image/png": "[encoded data removed]",
      "text/plain": [
       "<Figure size 432x288 with 1 Axes>"
      ]
     },
     "metadata": {
      "needs_background": "light"
     },
     "output_type": "display_data"
    }
   ],
   "source": [
    "plt.plot(mlr.coef_,alpha=0.7,linestyle='none',marker='*',markersize=5,color='red',label=r'MLR',zorder=7) \n",
    "plt.plot(lasso.coef_,alpha=0.5,linestyle='none',marker='d',markersize=6,color='blue',label=r'LASSO_alpha0.01') \n",
    "plt.plot(ridge.coef_,alpha=0.4,linestyle='none',marker='o',markersize=7,color='green',label='Ridge_alpha0.01')\n",
    "plt.xlabel('Coefficient Index',fontsize=16)\n",
    "plt.ylabel('Coefficient Magnitude',fontsize=16)\n",
    "plt.legend(fontsize=13,loc='best')\n",
    "plt.show()"
   ]
  }
 ],
 "metadata": {
  "kernelspec": {
   "display_name": "Python 3",
   "language": "python",
   "name": "python3"
  },
  "language_info": {
   "codemirror_mode": {
    "name": "ipython",
    "version": 3
   },
   "file_extension": ".py",
   "mimetype": "text/x-python",
   "name": "python",
   "nbconvert_exporter": "python",
   "pygments_lexer": "ipython3",
   "version": "3.6.1"
  }
 },
 "nbformat": 4,
 "nbformat_minor": 2
}
