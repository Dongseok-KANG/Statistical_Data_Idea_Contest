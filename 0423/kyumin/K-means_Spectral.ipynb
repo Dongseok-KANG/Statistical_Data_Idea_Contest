{
 "cells": [
  {
   "cell_type": "markdown",
   "metadata": {},
   "source": [
    "# 데이터 전처리"
   ]
  },
  {
   "cell_type": "code",
   "execution_count": 1,
   "metadata": {},
   "outputs": [],
   "source": [
    "import pandas as pd\n",
    "import numpy as np\n",
    "import warnings"
   ]
  },
  {
   "cell_type": "markdown",
   "metadata": {},
   "source": [
    "## 전체 데이터셋 : train"
   ]
  },
  {
   "cell_type": "code",
   "execution_count": 2,
   "metadata": {},
   "outputs": [],
   "source": [
    "train = pd.read_excel('C:/Users/user/Desktop/Statistical_Data_Idea_Contest/DATA/데이터/기술통계19.xlsx',index_col='global_id')"
   ]
  },
  {
   "cell_type": "code",
   "execution_count": 3,
   "metadata": {},
   "outputs": [
    {
     "name": "stdout",
     "output_type": "stream",
     "text": [
      "기술통계자료의 데이터 개수\n",
      "train: 3994\n"
     ]
    }
   ],
   "source": [
    "print('기술통계자료의 데이터 개수')\n",
    "print('train: {}'.format(len(train)))"
   ]
  },
  {
   "cell_type": "markdown",
   "metadata": {},
   "source": [
    "## 서비스업: service, 일반업: normal, 제조업: product "
   ]
  },
  {
   "cell_type": "code",
   "execution_count": 4,
   "metadata": {},
   "outputs": [],
   "source": [
    "service = pd.read_excel('C:/Users/user/Desktop/Statistical_Data_Idea_Contest/DATA/데이터/실태조사_서비스업19.xlsx',index_col='global_id')\n",
    "normal = pd.read_excel('C:/Users/user/Desktop/Statistical_Data_Idea_Contest/DATA/데이터/실태조사_일반항목19.xlsx',index_col='global_id')\n",
    "product = pd.read_excel('C:/Users/user/Desktop/Statistical_Data_Idea_Contest/DATA/데이터/실태조사_제조업19.xlsx',index_col='global_id')"
   ]
  },
  {
   "cell_type": "code",
   "execution_count": 5,
   "metadata": {},
   "outputs": [
    {
     "name": "stdout",
     "output_type": "stream",
     "text": [
      "실태조사 자료 데이터의 개수\n",
      "sevice:8500, normal:4000, product:7500\n"
     ]
    }
   ],
   "source": [
    "print('실태조사 자료 데이터의 개수')\n",
    "print('sevice:{}, normal:{}, product:{}'.format(len(service), len(normal), len(product)))"
   ]
  },
  {
   "cell_type": "markdown",
   "metadata": {},
   "source": [
    "## 기술통계조사와 실태조사 자료의 중복자료 추출"
   ]
  },
  {
   "cell_type": "code",
   "execution_count": 6,
   "metadata": {},
   "outputs": [
    {
     "name": "stdout",
     "output_type": "stream",
     "text": [
      "기술통계조사와 실태조사 자료의 중복항목 수는 다음과 같다.\n",
      "서비스업종 데이터: 195\n",
      "일반업종 데이터: 183\n",
      "제조업종 데이터: 834\n"
     ]
    }
   ],
   "source": [
    "warnings.filterwarnings(action='ignore')\n",
    "print('기술통계조사와 실태조사 자료의 중복항목 수는 다음과 같다.')\n",
    "# 서비스업\n",
    "line=[]\n",
    "for i in train.index:\n",
    "    if i in service.index:\n",
    "        line.append(i)\n",
    "    else:\n",
    "        line.append(0)\n",
    "\n",
    "service_train =train[train.index == line]\n",
    "service_train['bt'] = 1\n",
    "print('서비스업종 데이터: {}'.format(len(service_train)))\n",
    "\n",
    "# 일반업\n",
    "line=[]\n",
    "for i in train.index:\n",
    "    if i in normal.index:\n",
    "        line.append(i)\n",
    "    else:\n",
    "        line.append(0)\n",
    "        \n",
    "normal_train =train[train.index == line]\n",
    "normal_train['bt'] = 2\n",
    "print('일반업종 데이터: {}'.format(len(normal_train)))\n",
    "      \n",
    "# 제조업\n",
    "line = []\n",
    "for i in train.index:\n",
    "    if i in product.index:\n",
    "        line.append(i)\n",
    "    else:\n",
    "        line.append(0)\n",
    "        \n",
    "product_train =train[train.index == line]\n",
    "product_train['bt'] = 2\n",
    "print('제조업종 데이터: {}'.format(len(product_train)))"
   ]
  },
  {
   "cell_type": "markdown",
   "metadata": {},
   "source": [
    "## 데이터 병합"
   ]
  },
  {
   "cell_type": "code",
   "execution_count": 7,
   "metadata": {},
   "outputs": [],
   "source": [
    "train = pd.concat([service_train, normal_train, product_train])\n",
    "index_list = ['A1S1', 'A1N1', 'C2S2', 'H1_1', 'H4_1', 'I4Q1', 'I4Q2',  'I4Q3', 'I4Q4', 'I4Q5', 'I4Q6', 'I4Q7']\n",
    "my_train = train.loc[:, index_list]"
   ]
  },
  {
   "cell_type": "code",
   "execution_count": 8,
   "metadata": {},
   "outputs": [
    {
     "name": "stdout",
     "output_type": "stream",
     "text": [
      "           A1S1  A1N1  C2S2  H1_1  H4_1  I4Q1  I4Q2  I4Q3  I4Q4  I4Q5  I4Q6  \\\n",
      "global_id                                                                     \n",
      "111016.0    1.0   1.0   2.0   3.0   1.0   3.0   3.0   1.0   1.0   1.0   3.0   \n",
      "111037.0    1.0   1.0   4.0   NaN   1.0   3.0   3.0   1.0   1.0   3.0   3.0   \n",
      "111039.0    4.0   1.0   3.0   3.0   7.0   3.0   3.0   1.0   1.0   3.0   3.0   \n",
      "111041.0    4.0   5.0   2.0   5.0   NaN   3.0   3.0   3.0   3.0   2.0   2.0   \n",
      "111055.0    5.0   5.0   2.0   NaN   NaN   4.0   4.0   4.0   2.0   2.0   2.0   \n",
      "\n",
      "           I4Q7  \n",
      "global_id        \n",
      "111016.0    3.0  \n",
      "111037.0    3.0  \n",
      "111039.0    3.0  \n",
      "111041.0    2.0  \n",
      "111055.0    2.0  \n"
     ]
    }
   ],
   "source": [
    "print(my_train.head(5))"
   ]
  },
  {
   "cell_type": "markdown",
   "metadata": {},
   "source": [
    "## 결측치 최빈값 처리"
   ]
  },
  {
   "cell_type": "code",
   "execution_count": 9,
   "metadata": {},
   "outputs": [
    {
     "name": "stdout",
     "output_type": "stream",
     "text": [
      "           A1S1  A1N1  C2S2  H1_1  H4_1  I4Q1  I4Q2  I4Q3  I4Q4  I4Q5  I4Q6  \\\n",
      "global_id                                                                     \n",
      "111016.0    1.0   1.0   2.0   3.0   1.0   3.0   3.0   1.0   1.0   1.0   3.0   \n",
      "111037.0    1.0   1.0   4.0   3.0   1.0   3.0   3.0   1.0   1.0   3.0   3.0   \n",
      "111039.0    4.0   1.0   3.0   3.0   7.0   3.0   3.0   1.0   1.0   3.0   3.0   \n",
      "111041.0    4.0   5.0   2.0   5.0   1.0   3.0   3.0   3.0   3.0   2.0   2.0   \n",
      "111055.0    5.0   5.0   2.0   3.0   1.0   4.0   4.0   4.0   2.0   2.0   2.0   \n",
      "\n",
      "           I4Q7  \n",
      "global_id        \n",
      "111016.0    3.0  \n",
      "111037.0    3.0  \n",
      "111039.0    3.0  \n",
      "111041.0    2.0  \n",
      "111055.0    2.0  \n"
     ]
    }
   ],
   "source": [
    "for index in index_list:\n",
    "    freq = my_train[index].value_counts(dropna=True).idxmax()\n",
    "    my_train[index].fillna(freq, inplace = True)\n",
    "print(my_train.head(5))"
   ]
  },
  {
   "cell_type": "markdown",
   "metadata": {},
   "source": [
    "## 응답범주 축소화"
   ]
  },
  {
   "cell_type": "code",
   "execution_count": 10,
   "metadata": {},
   "outputs": [
    {
     "name": "stdout",
     "output_type": "stream",
     "text": [
      "           A1S1_1.0  A1S1_2.0  A1S1_3.0  A1N1_12.0  A1N1_2.0  A1N1_4.0  \\\n",
      "global_id                                                                \n",
      "111016.0          1         0         0          0         0         1   \n",
      "111037.0          1         0         0          0         0         1   \n",
      "111039.0          0         0         1          0         0         1   \n",
      "111041.0          0         0         1          0         0         1   \n",
      "111055.0          0         0         1          0         0         1   \n",
      "\n",
      "           A1N1_5.0  A1N1_8.0  C2S2_1.0  C2S2_2.0  ...  I4Q4_5.0  I4Q5_2.0  \\\n",
      "global_id                                          ...                       \n",
      "111016.0          0         0         0         1  ...         0         0   \n",
      "111037.0          0         0         0         1  ...         0         0   \n",
      "111039.0          0         0         0         0  ...         0         0   \n",
      "111041.0          0         0         0         1  ...         0         1   \n",
      "111055.0          0         0         0         1  ...         0         1   \n",
      "\n",
      "           I4Q5_3.0  I4Q5_5.0  I4Q6_2.0  I4Q6_3.0  I4Q6_5.0  I4Q7_2.0  \\\n",
      "global_id                                                               \n",
      "111016.0          1         0         0         1         0         0   \n",
      "111037.0          1         0         0         1         0         0   \n",
      "111039.0          1         0         0         1         0         0   \n",
      "111041.0          0         0         1         0         0         1   \n",
      "111055.0          0         0         1         0         0         1   \n",
      "\n",
      "           I4Q7_3.0  I4Q7_5.0  \n",
      "global_id                      \n",
      "111016.0          1         0  \n",
      "111037.0          1         0  \n",
      "111039.0          1         0  \n",
      "111041.0          0         0  \n",
      "111055.0          0         0  \n",
      "\n",
      "[5 rows x 40 columns]\n",
      "A1S1_1.0     uint8\n",
      "A1S1_2.0     uint8\n",
      "A1S1_3.0     uint8\n",
      "A1N1_12.0    uint8\n",
      "A1N1_2.0     uint8\n",
      "A1N1_4.0     uint8\n",
      "A1N1_5.0     uint8\n",
      "A1N1_8.0     uint8\n",
      "C2S2_1.0     uint8\n",
      "C2S2_2.0     uint8\n",
      "C2S2_3.0     uint8\n",
      "H1_1_2.0     uint8\n",
      "H1_1_3.0     uint8\n",
      "H1_1_4.0     uint8\n",
      "H4_1_1.0     uint8\n",
      "H4_1_3.0     uint8\n",
      "H4_1_4.0     uint8\n",
      "H4_1_5.0     uint8\n",
      "H4_1_6.0     uint8\n",
      "I4Q1_2.0     uint8\n",
      "I4Q1_3.0     uint8\n",
      "I4Q1_5.0     uint8\n",
      "I4Q2_2.0     uint8\n",
      "I4Q2_3.0     uint8\n",
      "I4Q2_5.0     uint8\n",
      "I4Q3_2.0     uint8\n",
      "I4Q3_3.0     uint8\n",
      "I4Q3_5.0     uint8\n",
      "I4Q4_2.0     uint8\n",
      "I4Q4_3.0     uint8\n",
      "I4Q4_5.0     uint8\n",
      "I4Q5_2.0     uint8\n",
      "I4Q5_3.0     uint8\n",
      "I4Q5_5.0     uint8\n",
      "I4Q6_2.0     uint8\n",
      "I4Q6_3.0     uint8\n",
      "I4Q6_5.0     uint8\n",
      "I4Q7_2.0     uint8\n",
      "I4Q7_3.0     uint8\n",
      "I4Q7_5.0     uint8\n",
      "dtype: object\n"
     ]
    }
   ],
   "source": [
    "warnings.filterwarnings(action='ignore')\n",
    "\n",
    "my_train['A1S1'][(my_train['A1S1']==1) | (my_train['A1S1']==2)] = 1\n",
    "my_train['A1S1'][my_train['A1S1']==3] = 2\n",
    "my_train['A1S1'][(my_train['A1S1']==4) | (my_train['A1S1']==5)| (my_train['A1S1']==6)] = 3\n",
    "my_train['A1S1'][my_train['A1S1']==7] = 4\n",
    "\n",
    "my_train['A1N1'] [(my_train['A1N1']==1) | (my_train['A1N1']==2)] = 1\n",
    "my_train['A1N1'] [(my_train['A1N1']==10) | (my_train['A1N1']==11)] = 2\n",
    "my_train['A1N1'] [(my_train['A1N1']==5) | (my_train['A1N1']==6)| (my_train['A1N1']==12| (my_train['A1N1']==8| (my_train['A1N1']==9)))] = 3\n",
    "my_train['A1N1'] [(my_train['A1N1']==3) | (my_train['A1N1']==7)] = 4\n",
    "my_train['A1N1'] [(my_train['A1N1']==13) | (my_train['A1N1']==14)| (my_train['A1N1']==15)] = 5\n",
    "\n",
    "my_train['C2S2'][(my_train['C2S2']==2) | (my_train['C2S2']==4)] = 2\n",
    "\n",
    "my_train['H1_1'][(my_train['H1_1']==2) | (my_train['H1_1']==3)] = 1\n",
    "my_train['H1_1'][(my_train['H1_1']==4) | (my_train['H1_1']==5)| (my_train['H1_1']==6)| (my_train['H1_1']==7)] = 2\n",
    "my_train['H1_1'][(my_train['H1_1']==1)] = 3\n",
    "my_train['H1_1'][(my_train['H1_1']==9) | (my_train['H1_1']==8)]= 4\n",
    "\n",
    "my_train['H4_1'][(my_train['H4_1']==1) | (my_train['H4_1']==3)] = 1\n",
    "my_train['H4_1'][(my_train['H4_1']==4)] = 2\n",
    "my_train['H4_1'][(my_train['H4_1']==5) | (my_train['H4_1']==6)] = 3\n",
    "my_train['H4_1'][(my_train['H4_1']==2)] = 4\n",
    "my_train['H4_1'][(my_train['H4_1']==7) | (my_train['H4_1']==9)] = 5\n",
    "my_train['H4_1'][(my_train['H4_1']==8) | (my_train['H4_1']==10)] = 6\n",
    "\n",
    "my_train['I4Q1'][(my_train['I4Q1']==3) | (my_train['I4Q1']==4)] = 1\n",
    "my_train['I4Q1'][(my_train['I4Q1']==2)] = 2\n",
    "my_train['I4Q1'][(my_train['I4Q1']==1)] = 3\n",
    "\n",
    "my_train['I4Q2'][(my_train['I4Q2']==3) | (my_train['I4Q2']==4)] = 1\n",
    "my_train['I4Q2'][(my_train['I4Q2']==2)] = 2\n",
    "my_train['I4Q2'][(my_train['I4Q2']==1)] = 3\n",
    "\n",
    "my_train['I4Q3'][(my_train['I4Q3']==3) | (my_train['I4Q3']==4)] = 1\n",
    "my_train['I4Q3'][(my_train['I4Q3']==2)] = 2\n",
    "my_train['I4Q3'][(my_train['I4Q3']==1)] = 3\n",
    "\n",
    "my_train['I4Q4'][(my_train['I4Q4']==3) | (my_train['I4Q4']==4)] = 1\n",
    "my_train['I4Q4'][(my_train['I4Q4']==2)] = 2\n",
    "my_train['I4Q4'][(my_train['I4Q4']==1)] = 3\n",
    "\n",
    "my_train['I4Q5'][(my_train['I4Q5']==3) | (my_train['I4Q5']==4)] = 1\n",
    "my_train['I4Q5'][(my_train['I4Q5']==2)] = 2\n",
    "my_train['I4Q5'][(my_train['I4Q5']==1)] = 3\n",
    "\n",
    "my_train['I4Q6'][(my_train['I4Q6']==3) | (my_train['I4Q6']==4)] = 1\n",
    "my_train['I4Q6'][(my_train['I4Q6']==2)] = 2\n",
    "my_train['I4Q6'][(my_train['I4Q6']==1)] = 3\n",
    "\n",
    "my_train['I4Q7'][(my_train['I4Q7']==3) | (my_train['I4Q7']==4)] = 1\n",
    "my_train['I4Q7'][(my_train['I4Q7']==2)] = 2\n",
    "my_train['I4Q7'][(my_train['I4Q7']==1)] = 3\n",
    "\n",
    "#문자열처리 및 더미변수화 하려면 아래코드돌리기\n",
    "for index in index_list:\n",
    "    my_train[index] = my_train[index].astype(str)\n",
    "    my_train = pd.get_dummies(my_train, columns=[index])\n",
    "\n",
    "print(my_train.head(5))\n",
    "print(my_train.dtypes)"
   ]
  },
  {
   "cell_type": "markdown",
   "metadata": {},
   "source": [
    " "
   ]
  },
  {
   "cell_type": "markdown",
   "metadata": {},
   "source": [
    "# K-MEANS 클러스터"
   ]
  },
  {
   "cell_type": "code",
   "execution_count": 11,
   "metadata": {},
   "outputs": [],
   "source": [
    "from sklearn.cluster import KMeans"
   ]
  },
  {
   "cell_type": "code",
   "execution_count": 12,
   "metadata": {},
   "outputs": [
    {
     "name": "stdout",
     "output_type": "stream",
     "text": [
      "           A1S1_1.0  A1S1_2.0  A1S1_3.0  A1N1_12.0  A1N1_2.0  A1N1_4.0  \\\n",
      "global_id                                                                \n",
      "111016.0          1         0         0          0         0         1   \n",
      "111037.0          1         0         0          0         0         1   \n",
      "111039.0          0         0         1          0         0         1   \n",
      "111041.0          0         0         1          0         0         1   \n",
      "111055.0          0         0         1          0         0         1   \n",
      "\n",
      "           A1N1_5.0  A1N1_8.0  C2S2_1.0  C2S2_2.0  ...  I4Q5_2.0  I4Q5_3.0  \\\n",
      "global_id                                          ...                       \n",
      "111016.0          0         0         0         1  ...         0         1   \n",
      "111037.0          0         0         0         1  ...         0         1   \n",
      "111039.0          0         0         0         0  ...         0         1   \n",
      "111041.0          0         0         0         1  ...         1         0   \n",
      "111055.0          0         0         0         1  ...         1         0   \n",
      "\n",
      "           I4Q5_5.0  I4Q6_2.0  I4Q6_3.0  I4Q6_5.0  I4Q7_2.0  I4Q7_3.0  \\\n",
      "global_id                                                               \n",
      "111016.0          0         0         1         0         0         1   \n",
      "111037.0          0         0         1         0         0         1   \n",
      "111039.0          0         0         1         0         0         1   \n",
      "111041.0          0         1         0         0         1         0   \n",
      "111055.0          0         1         0         0         1         0   \n",
      "\n",
      "           I4Q7_5.0  k_means  \n",
      "global_id                     \n",
      "111016.0          0        1  \n",
      "111037.0          0        1  \n",
      "111039.0          0        1  \n",
      "111041.0          0        2  \n",
      "111055.0          0        2  \n",
      "\n",
      "[5 rows x 41 columns]\n",
      "k_means\n",
      "0    253\n",
      "1    598\n",
      "2    361\n",
      "dtype: int64\n"
     ]
    }
   ],
   "source": [
    "model = KMeans(n_clusters=3)\n",
    "model.fit(my_train)\n",
    "y_predict = model.fit_predict(my_train)\n",
    "my_train['k_means'] = y_predict\n",
    "print(my_train.head(5))\n",
    "print(my_train.groupby('k_means').size())"
   ]
  },
  {
   "cell_type": "markdown",
   "metadata": {},
   "source": [
    "# 스펙트럴 군집"
   ]
  },
  {
   "cell_type": "code",
   "execution_count": 13,
   "metadata": {},
   "outputs": [],
   "source": [
    "from sklearn.cluster import SpectralClustering"
   ]
  },
  {
   "cell_type": "code",
   "execution_count": 14,
   "metadata": {},
   "outputs": [
    {
     "name": "stdout",
     "output_type": "stream",
     "text": [
      "           A1S1_1.0  A1S1_2.0  A1S1_3.0  A1N1_12.0  A1N1_2.0  A1N1_4.0  \\\n",
      "global_id                                                                \n",
      "111016.0          1         0         0          0         0         1   \n",
      "111037.0          1         0         0          0         0         1   \n",
      "111039.0          0         0         1          0         0         1   \n",
      "111041.0          0         0         1          0         0         1   \n",
      "111055.0          0         0         1          0         0         1   \n",
      "\n",
      "           A1N1_5.0  A1N1_8.0  C2S2_1.0  C2S2_2.0  ...  I4Q5_3.0  I4Q5_5.0  \\\n",
      "global_id                                          ...                       \n",
      "111016.0          0         0         0         1  ...         1         0   \n",
      "111037.0          0         0         0         1  ...         1         0   \n",
      "111039.0          0         0         0         0  ...         1         0   \n",
      "111041.0          0         0         0         1  ...         0         0   \n",
      "111055.0          0         0         0         1  ...         0         0   \n",
      "\n",
      "           I4Q6_2.0  I4Q6_3.0  I4Q6_5.0  I4Q7_2.0  I4Q7_3.0  I4Q7_5.0  \\\n",
      "global_id                                                               \n",
      "111016.0          0         1         0         0         1         0   \n",
      "111037.0          0         1         0         0         1         0   \n",
      "111039.0          0         1         0         0         1         0   \n",
      "111041.0          1         0         0         1         0         0   \n",
      "111055.0          1         0         0         1         0         0   \n",
      "\n",
      "           k_means  Spectral  \n",
      "global_id                     \n",
      "111016.0         1         0  \n",
      "111037.0         1         0  \n",
      "111039.0         1         0  \n",
      "111041.0         2         2  \n",
      "111055.0         2         2  \n",
      "\n",
      "[5 rows x 42 columns]\n"
     ]
    }
   ],
   "source": [
    "spectral = SpectralClustering(n_clusters=3, n_init=10)\n",
    "y_predict = spectral.fit_predict(my_train)\n",
    "my_train['Spectral'] = y_predict\n",
    "print(my_train.head(5))\n",
    "\n",
    "my_train.to_csv('C:/Users/user/Desktop/Statistical_Data_Idea_Contest/0423/kyumin/cluster_result.csv', index=True)"
   ]
  },
  {
   "cell_type": "markdown",
   "metadata": {},
   "source": [
    "# Clustrering 결과분석"
   ]
  },
  {
   "cell_type": "code",
   "execution_count": 15,
   "metadata": {},
   "outputs": [
    {
     "name": "stdout",
     "output_type": "stream",
     "text": [
      "k_means\n",
      "0    253\n",
      "1    598\n",
      "2    361\n",
      "dtype: int64\n",
      "Spectral\n",
      "0    849\n",
      "1      2\n",
      "2    361\n",
      "dtype: int64\n"
     ]
    }
   ],
   "source": [
    "print(my_train.groupby('k_means').size())\n",
    "print(my_train.groupby('Spectral').size())"
   ]
  },
  {
   "cell_type": "markdown",
   "metadata": {},
   "source": [
    "### 혹시몰라서 int로도 string으로도 해봤으나 결과 값은 똑같다!"
   ]
  },
  {
   "cell_type": "markdown",
   "metadata": {},
   "source": [
    "### 더미 변수처리는 했는데 Sptectral에서 너무 오래걸린다(안돌아감) \n",
    "https://m.blog.naver.com/PostView.nhn?blogId=ssdyka&logNo=221284738829&proxyReferer=https:%2F%2Fwww.google.com%2F"
   ]
  },
  {
   "cell_type": "code",
   "execution_count": null,
   "metadata": {},
   "outputs": [],
   "source": []
  }
 ],
 "metadata": {
  "kernelspec": {
   "display_name": "Python 3",
   "language": "python",
   "name": "python3"
  },
  "language_info": {
   "codemirror_mode": {
    "name": "ipython",
    "version": 3
   },
   "file_extension": ".py",
   "mimetype": "text/x-python",
   "name": "python",
   "nbconvert_exporter": "python",
   "pygments_lexer": "ipython3",
   "version": "3.7.6"
  }
 },
 "nbformat": 4,
 "nbformat_minor": 4
}
