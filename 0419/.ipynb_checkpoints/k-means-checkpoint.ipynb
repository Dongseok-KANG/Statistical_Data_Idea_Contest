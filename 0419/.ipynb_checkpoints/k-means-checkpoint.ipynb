{
 "cells": [
  {
   "cell_type": "code",
   "execution_count": 101,
   "metadata": {},
   "outputs": [],
   "source": [
    "import pandas as pd\n",
    "import numpy as np\n",
    "import warnings\n",
    "warnings.filterwarnings(action='ignore')\n",
    "warnings.filterwarnings(action='default')\n"
   ]
  },
  {
   "cell_type": "code",
   "execution_count": 3,
   "metadata": {},
   "outputs": [],
   "source": [
    "train = pd.read_excel('C:/Users/user/Desktop/Statistical_Data_Idea_Contest/DATA/데이터/기술통계19.xlsx',index_col='global_id')"
   ]
  },
  {
   "cell_type": "code",
   "execution_count": 5,
   "metadata": {},
   "outputs": [],
   "source": [
    "service = pd.read_excel('C:/Users/user/Desktop/Statistical_Data_Idea_Contest/DATA/데이터/실태조사_서비스업19.xlsx',index_col='global_id')\n",
    "normal = pd.read_excel('C:/Users/user/Desktop/Statistical_Data_Idea_Contest/DATA/데이터/실태조사_일반항목19.xlsx',index_col='global_id')\n",
    "product = pd.read_excel('C:/Users/user/Desktop/Statistical_Data_Idea_Contest/DATA/데이터/실태조사_제조업19.xlsx',index_col='global_id')"
   ]
  },
  {
   "cell_type": "code",
   "execution_count": 79,
   "metadata": {},
   "outputs": [
    {
     "name": "stdout",
     "output_type": "stream",
     "text": [
      "train:1212, sevice:8500, normal:4000, product:7500\n",
      "             x1    x3   x2  SEX     AGE    YEAR  MAININCM  SEP5  SEP4  SEP1  \\\n",
      "global_id                                                                     \n",
      "111016.0   11.0  73.0  1.0  1.0  1965.0  1989.0     100.0   3.0   1.0   0.0   \n",
      "111037.0   11.0  73.0  3.0  1.0  1965.0  2009.0     100.0   2.0   0.0   0.0   \n",
      "111039.0   11.0  73.0  1.0  2.0  1975.0  2013.0     100.0   2.0   1.0   0.0   \n",
      "111041.0   23.0  72.0  2.0  2.0  1964.0  2014.0      80.0   2.0   1.0   0.0   \n",
      "111055.0   11.0  62.0  2.0  1.0  1963.0  1999.0     100.0   3.0   0.0   0.0   \n",
      "\n",
      "           ...  I4S6  I4Q6  I4S7  I4Q7   I5  I6_1  I6_2  I7_1  I7_2  bt  \n",
      "global_id  ...                                                           \n",
      "111016.0   ...   0.0   3.0   0.0   3.0  3.0   6.0   8.0   1.0   3.0   1  \n",
      "111037.0   ...   0.0   3.0   0.0   3.0  3.0   9.0   8.0   1.0   3.0   1  \n",
      "111039.0   ...   0.0   3.0   0.0   3.0  1.0   8.0   NaN   3.0   NaN   1  \n",
      "111041.0   ...   0.0   2.0   0.0   2.0  2.0   1.0   3.0   2.0   1.0   1  \n",
      "111055.0   ...   0.0   2.0   0.0   2.0  2.0   3.0   7.0   2.0   NaN   1  \n",
      "\n",
      "[5 rows x 349 columns]\n"
     ]
    }
   ],
   "source": [
    "print('train:{}, sevice:{}, normal:{}, product:{}'.format(len(train), len(service), len(normal), len(product)))\n",
    "print(train.head(5))"
   ]
  },
  {
   "cell_type": "code",
   "execution_count": 104,
   "metadata": {},
   "outputs": [
    {
     "name": "stdout",
     "output_type": "stream",
     "text": [
      "203\n"
     ]
    }
   ],
   "source": [
    "warnings.filterwarnings(action='ignore')\n",
    "line=[]\n",
    "for i in train.index:\n",
    "    if i in service.index:\n",
    "        line.append(i)\n",
    "    else:\n",
    "        line.append(0)\n",
    "\n",
    "service_train =train[train.index == line]\n",
    "\n",
    "service_train['bt'] = 1\n",
    "print(len(service_train))"
   ]
  },
  {
   "cell_type": "code",
   "execution_count": 105,
   "metadata": {},
   "outputs": [
    {
     "name": "stdout",
     "output_type": "stream",
     "text": [
      "255\n"
     ]
    }
   ],
   "source": [
    "warnings.filterwarnings(action='ignore')\n",
    "line=[]\n",
    "for i in train.index:\n",
    "    if i in normal.index:\n",
    "        line.append(i)\n",
    "    else:\n",
    "        line.append(0)\n",
    "        \n",
    "normal_train =train[train.index == line]\n",
    "\n",
    "normal_train['bt'] = 2\n",
    "print(len(normal_train))"
   ]
  },
  {
   "cell_type": "code",
   "execution_count": 106,
   "metadata": {},
   "outputs": [
    {
     "name": "stdout",
     "output_type": "stream",
     "text": [
      "898\n"
     ]
    }
   ],
   "source": [
    "warnings.filterwarnings(action='ignore')\n",
    "line=[]\n",
    "for i in train.index:\n",
    "    if i in product.index:\n",
    "        line.append(i)\n",
    "    else:\n",
    "        line.append(0)\n",
    "        \n",
    "product_train =train[train.index == line]\n",
    "\n",
    "product_train['bt'] = 2\n",
    "print(len(product_train))"
   ]
  },
  {
   "cell_type": "code",
   "execution_count": 107,
   "metadata": {},
   "outputs": [],
   "source": [
    "train = pd.concat([service_train, normal_train, product_train])"
   ]
  },
  {
   "cell_type": "code",
   "execution_count": 108,
   "metadata": {},
   "outputs": [
    {
     "name": "stdout",
     "output_type": "stream",
     "text": [
      "             x1    x3   x2  SEX     AGE    YEAR  MAININCM  SEP5  SEP4  SEP1  \\\n",
      "global_id                                                                     \n",
      "111016.0   11.0  73.0  1.0  1.0  1965.0  1989.0     100.0   3.0   1.0   0.0   \n",
      "111037.0   11.0  73.0  3.0  1.0  1965.0  2009.0     100.0   2.0   0.0   0.0   \n",
      "111039.0   11.0  73.0  1.0  2.0  1975.0  2013.0     100.0   2.0   1.0   0.0   \n",
      "111041.0   23.0  72.0  2.0  2.0  1964.0  2014.0      80.0   2.0   1.0   0.0   \n",
      "111055.0   11.0  62.0  2.0  1.0  1963.0  1999.0     100.0   3.0   0.0   0.0   \n",
      "\n",
      "           ...  I4S6  I4Q6  I4S7  I4Q7   I5  I6_1  I6_2  I7_1  I7_2  bt  \n",
      "global_id  ...                                                           \n",
      "111016.0   ...   0.0   3.0   0.0   3.0  3.0   6.0   8.0   1.0   3.0   1  \n",
      "111037.0   ...   0.0   3.0   0.0   3.0  3.0   9.0   8.0   1.0   3.0   1  \n",
      "111039.0   ...   0.0   3.0   0.0   3.0  1.0   8.0   NaN   3.0   NaN   1  \n",
      "111041.0   ...   0.0   2.0   0.0   2.0  2.0   1.0   3.0   2.0   1.0   1  \n",
      "111055.0   ...   0.0   2.0   0.0   2.0  2.0   3.0   7.0   2.0   NaN   1  \n",
      "\n",
      "[5 rows x 349 columns]\n"
     ]
    }
   ],
   "source": [
    "print(train.head(5))"
   ]
  },
  {
   "cell_type": "code",
   "execution_count": 118,
   "metadata": {},
   "outputs": [],
   "source": [
    "index_list = ['A1S1', 'A1N1', 'C2S2', 'H1_1', 'H4_1', 'I4Q1', 'I4Q2',  'I4Q3', 'I4Q4', 'I4Q5', 'I4Q6', 'I4Q7']\n",
    "my_train = train.loc[:, index_list]\n",
    "my_train = my_train.dropna(axis = 0)"
   ]
  },
  {
   "cell_type": "code",
   "execution_count": 119,
   "metadata": {},
   "outputs": [
    {
     "name": "stdout",
     "output_type": "stream",
     "text": [
      "           A1S1  A1N1  C2S2  H1_1  H4_1  I4Q1  I4Q2  I4Q3  I4Q4  I4Q5  I4Q6  \\\n",
      "global_id                                                                     \n",
      "111016.0    1.0   1.0   2.0   3.0   1.0   3.0   3.0   1.0   1.0   1.0   3.0   \n",
      "111039.0    4.0   1.0   3.0   3.0   7.0   3.0   3.0   1.0   1.0   3.0   3.0   \n",
      "111097.0    1.0   1.0   2.0   3.0   1.0   1.0   1.0   1.0   2.0   2.0   2.0   \n",
      "111098.0    1.0   5.0   2.0   3.0   1.0   1.0   1.0   1.0   2.0   2.0   2.0   \n",
      "111117.0    1.0   1.0   2.0   3.0   1.0   3.0   3.0   3.0   3.0   1.0   3.0   \n",
      "\n",
      "           I4Q7  \n",
      "global_id        \n",
      "111016.0    3.0  \n",
      "111039.0    3.0  \n",
      "111097.0    2.0  \n",
      "111098.0    2.0  \n",
      "111117.0    3.0  \n",
      "991\n"
     ]
    }
   ],
   "source": [
    "print(my_train.head(5))\n",
    "print(len(my_train))"
   ]
  },
  {
   "cell_type": "code",
   "execution_count": 124,
   "metadata": {},
   "outputs": [
    {
     "name": "stdout",
     "output_type": "stream",
     "text": [
      "           A1S1  A1N1  C2S2  H1_1  H4_1  I4Q1  I4Q2  I4Q3  I4Q4  I4Q5  I4Q6  \\\n",
      "global_id                                                                     \n",
      "111016.0    1.0   4.0   2.0   3.0   1.0   3.0   3.0   3.0   3.0   3.0   3.0   \n",
      "111039.0    1.0   4.0   3.0   3.0   5.0   3.0   3.0   3.0   3.0   3.0   3.0   \n",
      "111097.0    1.0   4.0   2.0   3.0   1.0   3.0   3.0   3.0   2.0   2.0   2.0   \n",
      "111098.0    1.0   4.0   2.0   3.0   1.0   3.0   3.0   3.0   2.0   2.0   2.0   \n",
      "111117.0    1.0   4.0   2.0   3.0   1.0   3.0   3.0   3.0   3.0   3.0   3.0   \n",
      "\n",
      "           I4Q7  \n",
      "global_id        \n",
      "111016.0    3.0  \n",
      "111039.0    3.0  \n",
      "111097.0    2.0  \n",
      "111098.0    2.0  \n",
      "111117.0    3.0  \n",
      "A1S1    float64\n",
      "A1N1    float64\n",
      "C2S2    float64\n",
      "H1_1    float64\n",
      "H4_1    float64\n",
      "I4Q1    float64\n",
      "I4Q2    float64\n",
      "I4Q3    float64\n",
      "I4Q4    float64\n",
      "I4Q5    float64\n",
      "I4Q6    float64\n",
      "I4Q7    float64\n",
      "dtype: object\n"
     ]
    }
   ],
   "source": [
    "# warnings.filterwarnings(action='ignore')\n",
    "\n",
    "my_train['A1S1'][(my_train['A1S1']==1) | (my_train['A1S1']==2)] = 1\n",
    "my_train['A1S1'][my_train['A1S1']==3] = 2\n",
    "my_train['A1S1'][(my_train['A1S1']==4) | (my_train['A1S1']==5)| (my_train['A1S1']==6)] = 3\n",
    "my_train['A1S1'][my_train['A1S1']==7] = 4\n",
    "\n",
    "my_train['A1N1'] [(my_train['A1N1']==1) | (my_train['A1N1']==2)] = 1\n",
    "my_train['A1N1'] [(my_train['A1N1']==10) | (my_train['A1N1']==11)] = 2\n",
    "my_train['A1N1'] [(my_train['A1N1']==5) | (my_train['A1N1']==6)| (my_train['A1N1']==12| (my_train['A1N1']==8| (my_train['A1N1']==9)))] = 3\n",
    "my_train['A1N1'] [(my_train['A1N1']==3) | (my_train['A1N1']==7)] = 4\n",
    "my_train['A1N1'] [(my_train['A1N1']==13) | (my_train['A1N1']==14)| (my_train['A1N1']==15)] = 5\n",
    "\n",
    "my_train['C2S2'][(my_train['C2S2']==2) | (my_train['C2S2']==4)] = 2\n",
    "\n",
    "my_train['H1_1'][(my_train['H1_1']==2) | (my_train['H1_1']==3)] = 1\n",
    "my_train['H1_1'][(my_train['H1_1']==4) | (my_train['H1_1']==5)| (my_train['H1_1']==6)| (my_train['H1_1']==7)] = 2\n",
    "my_train['H1_1'][(my_train['H1_1']==1)] = 3\n",
    "my_train['H1_1'][(my_train['H1_1']==9) | (my_train['H1_1']==8)]= 4\n",
    "\n",
    "my_train['H4_1'][(my_train['H4_1']==1) | (my_train['H4_1']==3)] = 1\n",
    "my_train['H4_1'][(my_train['H4_1']==4)] = 2\n",
    "my_train['H4_1'][(my_train['H4_1']==5) | (my_train['H4_1']==6)] = 3\n",
    "my_train['H4_1'][(my_train['H4_1']==2)] = 4\n",
    "my_train['H4_1'][(my_train['H4_1']==7) | (my_train['H4_1']==9)] = 5\n",
    "my_train['H4_1'][(my_train['H4_1']==8) | (my_train['H4_1']==10)] = 6\n",
    "\n",
    "my_train['I4Q1'][(my_train['I4Q1']==3) | (my_train['I4Q1']==4)] = 1\n",
    "my_train['I4Q1'][(my_train['I4Q1']==2)] = 2\n",
    "my_train['I4Q1'][(my_train['I4Q1']==1)] = 3\n",
    "\n",
    "my_train['I4Q2'][(my_train['I4Q2']==3) | (my_train['I4Q2']==4)] = 1\n",
    "my_train['I4Q2'][(my_train['I4Q2']==2)] = 2\n",
    "my_train['I4Q2'][(my_train['I4Q2']==1)] = 3\n",
    "\n",
    "my_train['I4Q3'][(my_train['I4Q3']==3) | (my_train['I4Q3']==4)] = 1\n",
    "my_train['I4Q3'][(my_train['I4Q3']==2)] = 2\n",
    "my_train['I4Q3'][(my_train['I4Q3']==1)] = 3\n",
    "\n",
    "my_train['I4Q4'][(my_train['I4Q4']==3) | (my_train['I4Q4']==4)] = 1\n",
    "my_train['I4Q4'][(my_train['I4Q4']==2)] = 2\n",
    "my_train['I4Q4'][(my_train['I4Q4']==1)] = 3\n",
    "\n",
    "my_train['I4Q5'][(my_train['I4Q5']==3) | (my_train['I4Q5']==4)] = 1\n",
    "my_train['I4Q5'][(my_train['I4Q5']==2)] = 2\n",
    "my_train['I4Q5'][(my_train['I4Q5']==1)] = 3\n",
    "\n",
    "my_train['I4Q6'][(my_train['I4Q6']==3) | (my_train['I4Q6']==4)] = 1\n",
    "my_train['I4Q6'][(my_train['I4Q6']==2)] = 2\n",
    "my_train['I4Q6'][(my_train['I4Q6']==1)] = 3\n",
    "\n",
    "my_train['I4Q7'][(my_train['I4Q7']==3) | (my_train['I4Q7']==4)] = 1\n",
    "my_train['I4Q7'][(my_train['I4Q7']==2)] = 2\n",
    "my_train['I4Q7'][(my_train['I4Q7']==1)] = 3\n",
    "\n",
    "print(my_train.head(5))\n",
    "print(my_train.dtypes)"
   ]
  },
  {
   "cell_type": "code",
   "execution_count": 92,
   "metadata": {},
   "outputs": [],
   "source": [
    "from sklearn.cluster import KMeans"
   ]
  },
  {
   "cell_type": "code",
   "execution_count": 142,
   "metadata": {},
   "outputs": [
    {
     "name": "stdout",
     "output_type": "stream",
     "text": [
      "global_id\n",
      "111016.0    1\n",
      "111039.0    0\n",
      "111097.0    1\n",
      "111098.0    1\n",
      "111117.0    1\n",
      "Name: k-means-cluster, dtype: int32\n"
     ]
    }
   ],
   "source": [
    "model = KMeans(n_clusters=3)\n",
    "model.fit(my_train)\n",
    "y_predict = model.fit_predict(my_train)\n",
    "my_train['k-means-cluster'] = y_predict\n",
    "print(my_train['k-means-cluster'].head(5))\n",
    "my_train['k-means-cluster'].to_csv('C:/Users/user/Desktop/Statistical_Data_Idea_Contest/0423/kyumin/k-means_result.csv', index=True)"
   ]
  },
  {
   "cell_type": "markdown",
   "metadata": {},
   "source": [
    "# 스펙트럴 군집"
   ]
  },
  {
   "cell_type": "code",
   "execution_count": 135,
   "metadata": {},
   "outputs": [],
   "source": [
    "from sklearn.cluster import SpectralClustering"
   ]
  },
  {
   "cell_type": "code",
   "execution_count": 141,
   "metadata": {},
   "outputs": [
    {
     "name": "stdout",
     "output_type": "stream",
     "text": [
      "global_id\n",
      "111016.0    0\n",
      "111039.0    0\n",
      "111097.0    0\n",
      "111098.0    0\n",
      "111117.0    0\n",
      "Name: spectral-cluster, dtype: int32\n"
     ]
    },
    {
     "ename": "PermissionError",
     "evalue": "[Errno 13] Permission denied: 'C:/Users/user/Desktop/Statistical_Data_Idea_Contest/0423/kyumin/spectral_result.csv'",
     "output_type": "error",
     "traceback": [
      "\u001b[1;31m---------------------------------------------------------------------------\u001b[0m",
      "\u001b[1;31mPermissionError\u001b[0m                           Traceback (most recent call last)",
      "\u001b[1;32m<ipython-input-141-a81e0b11a144>\u001b[0m in \u001b[0;36m<module>\u001b[1;34m\u001b[0m\n\u001b[0;32m      3\u001b[0m \u001b[0mmy_train\u001b[0m\u001b[1;33m[\u001b[0m\u001b[1;34m'spectral-cluster'\u001b[0m\u001b[1;33m]\u001b[0m \u001b[1;33m=\u001b[0m \u001b[0my_predict\u001b[0m\u001b[1;33m\u001b[0m\u001b[1;33m\u001b[0m\u001b[0m\n\u001b[0;32m      4\u001b[0m \u001b[0mprint\u001b[0m\u001b[1;33m(\u001b[0m\u001b[0mmy_train\u001b[0m\u001b[1;33m[\u001b[0m\u001b[1;34m'spectral-cluster'\u001b[0m\u001b[1;33m]\u001b[0m\u001b[1;33m.\u001b[0m\u001b[0mhead\u001b[0m\u001b[1;33m(\u001b[0m\u001b[1;36m5\u001b[0m\u001b[1;33m)\u001b[0m\u001b[1;33m)\u001b[0m\u001b[1;33m\u001b[0m\u001b[1;33m\u001b[0m\u001b[0m\n\u001b[1;32m----> 5\u001b[1;33m \u001b[0mmy_train\u001b[0m\u001b[1;33m[\u001b[0m\u001b[1;34m'k-means-cluster'\u001b[0m\u001b[1;33m]\u001b[0m\u001b[1;33m.\u001b[0m\u001b[0mto_csv\u001b[0m\u001b[1;33m(\u001b[0m\u001b[1;34m'C:/Users/user/Desktop/Statistical_Data_Idea_Contest/0423/kyumin/spectral_result.csv'\u001b[0m\u001b[1;33m,\u001b[0m \u001b[0mindex\u001b[0m\u001b[1;33m=\u001b[0m\u001b[1;32mTrue\u001b[0m\u001b[1;33m)\u001b[0m\u001b[1;33m\u001b[0m\u001b[1;33m\u001b[0m\u001b[0m\n\u001b[0m",
      "\u001b[1;32m~\\Anaconda3\\lib\\site-packages\\pandas\\core\\series.py\u001b[0m in \u001b[0;36mto_csv\u001b[1;34m(self, *args, **kwargs)\u001b[0m\n\u001b[0;32m   4201\u001b[0m                           stacklevel=2)\n\u001b[0;32m   4202\u001b[0m             \u001b[0mkwargs\u001b[0m\u001b[1;33m[\u001b[0m\u001b[1;34m\"header\"\u001b[0m\u001b[1;33m]\u001b[0m \u001b[1;33m=\u001b[0m \u001b[1;32mFalse\u001b[0m  \u001b[1;31m# Backwards compatibility.\u001b[0m\u001b[1;33m\u001b[0m\u001b[1;33m\u001b[0m\u001b[0m\n\u001b[1;32m-> 4203\u001b[1;33m         \u001b[1;32mreturn\u001b[0m \u001b[0mself\u001b[0m\u001b[1;33m.\u001b[0m\u001b[0mto_frame\u001b[0m\u001b[1;33m(\u001b[0m\u001b[1;33m)\u001b[0m\u001b[1;33m.\u001b[0m\u001b[0mto_csv\u001b[0m\u001b[1;33m(\u001b[0m\u001b[1;33m**\u001b[0m\u001b[0mkwargs\u001b[0m\u001b[1;33m)\u001b[0m\u001b[1;33m\u001b[0m\u001b[1;33m\u001b[0m\u001b[0m\n\u001b[0m\u001b[0;32m   4204\u001b[0m \u001b[1;33m\u001b[0m\u001b[0m\n\u001b[0;32m   4205\u001b[0m     \u001b[1;33m@\u001b[0m\u001b[0mAppender\u001b[0m\u001b[1;33m(\u001b[0m\u001b[0mgeneric\u001b[0m\u001b[1;33m.\u001b[0m\u001b[0m_shared_docs\u001b[0m\u001b[1;33m[\u001b[0m\u001b[1;34m'isna'\u001b[0m\u001b[1;33m]\u001b[0m \u001b[1;33m%\u001b[0m \u001b[0m_shared_doc_kwargs\u001b[0m\u001b[1;33m)\u001b[0m\u001b[1;33m\u001b[0m\u001b[1;33m\u001b[0m\u001b[0m\n",
      "\u001b[1;32m~\\Anaconda3\\lib\\site-packages\\pandas\\core\\generic.py\u001b[0m in \u001b[0;36mto_csv\u001b[1;34m(self, path_or_buf, sep, na_rep, float_format, columns, header, index, index_label, mode, encoding, compression, quoting, quotechar, line_terminator, chunksize, tupleize_cols, date_format, doublequote, escapechar, decimal)\u001b[0m\n\u001b[0;32m   3018\u001b[0m                                  \u001b[0mdoublequote\u001b[0m\u001b[1;33m=\u001b[0m\u001b[0mdoublequote\u001b[0m\u001b[1;33m,\u001b[0m\u001b[1;33m\u001b[0m\u001b[1;33m\u001b[0m\u001b[0m\n\u001b[0;32m   3019\u001b[0m                                  escapechar=escapechar, decimal=decimal)\n\u001b[1;32m-> 3020\u001b[1;33m         \u001b[0mformatter\u001b[0m\u001b[1;33m.\u001b[0m\u001b[0msave\u001b[0m\u001b[1;33m(\u001b[0m\u001b[1;33m)\u001b[0m\u001b[1;33m\u001b[0m\u001b[1;33m\u001b[0m\u001b[0m\n\u001b[0m\u001b[0;32m   3021\u001b[0m \u001b[1;33m\u001b[0m\u001b[0m\n\u001b[0;32m   3022\u001b[0m         \u001b[1;32mif\u001b[0m \u001b[0mpath_or_buf\u001b[0m \u001b[1;32mis\u001b[0m \u001b[1;32mNone\u001b[0m\u001b[1;33m:\u001b[0m\u001b[1;33m\u001b[0m\u001b[1;33m\u001b[0m\u001b[0m\n",
      "\u001b[1;32m~\\Anaconda3\\lib\\site-packages\\pandas\\io\\formats\\csvs.py\u001b[0m in \u001b[0;36msave\u001b[1;34m(self)\u001b[0m\n\u001b[0;32m    155\u001b[0m             f, handles = _get_handle(self.path_or_buf, self.mode,\n\u001b[0;32m    156\u001b[0m                                      \u001b[0mencoding\u001b[0m\u001b[1;33m=\u001b[0m\u001b[0mself\u001b[0m\u001b[1;33m.\u001b[0m\u001b[0mencoding\u001b[0m\u001b[1;33m,\u001b[0m\u001b[1;33m\u001b[0m\u001b[1;33m\u001b[0m\u001b[0m\n\u001b[1;32m--> 157\u001b[1;33m                                      compression=self.compression)\n\u001b[0m\u001b[0;32m    158\u001b[0m             \u001b[0mclose\u001b[0m \u001b[1;33m=\u001b[0m \u001b[1;32mTrue\u001b[0m\u001b[1;33m\u001b[0m\u001b[1;33m\u001b[0m\u001b[0m\n\u001b[0;32m    159\u001b[0m \u001b[1;33m\u001b[0m\u001b[0m\n",
      "\u001b[1;32m~\\Anaconda3\\lib\\site-packages\\pandas\\io\\common.py\u001b[0m in \u001b[0;36m_get_handle\u001b[1;34m(path_or_buf, mode, encoding, compression, memory_map, is_text)\u001b[0m\n\u001b[0;32m    422\u001b[0m         \u001b[1;32melif\u001b[0m \u001b[0mencoding\u001b[0m\u001b[1;33m:\u001b[0m\u001b[1;33m\u001b[0m\u001b[1;33m\u001b[0m\u001b[0m\n\u001b[0;32m    423\u001b[0m             \u001b[1;31m# Python 3 and encoding\u001b[0m\u001b[1;33m\u001b[0m\u001b[1;33m\u001b[0m\u001b[1;33m\u001b[0m\u001b[0m\n\u001b[1;32m--> 424\u001b[1;33m             \u001b[0mf\u001b[0m \u001b[1;33m=\u001b[0m \u001b[0mopen\u001b[0m\u001b[1;33m(\u001b[0m\u001b[0mpath_or_buf\u001b[0m\u001b[1;33m,\u001b[0m \u001b[0mmode\u001b[0m\u001b[1;33m,\u001b[0m \u001b[0mencoding\u001b[0m\u001b[1;33m=\u001b[0m\u001b[0mencoding\u001b[0m\u001b[1;33m,\u001b[0m \u001b[0mnewline\u001b[0m\u001b[1;33m=\u001b[0m\u001b[1;34m\"\"\u001b[0m\u001b[1;33m)\u001b[0m\u001b[1;33m\u001b[0m\u001b[1;33m\u001b[0m\u001b[0m\n\u001b[0m\u001b[0;32m    425\u001b[0m         \u001b[1;32melif\u001b[0m \u001b[0mis_text\u001b[0m\u001b[1;33m:\u001b[0m\u001b[1;33m\u001b[0m\u001b[1;33m\u001b[0m\u001b[0m\n\u001b[0;32m    426\u001b[0m             \u001b[1;31m# Python 3 and no explicit encoding\u001b[0m\u001b[1;33m\u001b[0m\u001b[1;33m\u001b[0m\u001b[1;33m\u001b[0m\u001b[0m\n",
      "\u001b[1;31mPermissionError\u001b[0m: [Errno 13] Permission denied: 'C:/Users/user/Desktop/Statistical_Data_Idea_Contest/0423/kyumin/spectral_result.csv'"
     ]
    }
   ],
   "source": [
    "spectral = SpectralClustering(n_clusters=3, n_init=10)\n",
    "y_predict = spectral.fit_predict(my_train)\n",
    "my_train['spectral-cluster'] = y_predict\n",
    "print(my_train['spectral-cluster'].head(5))\n",
    "my_train['k-means-cluster'].to_csv('C:/Users/user/Desktop/Statistical_Data_Idea_Contest/0423/kyumin/spectral_result.csv', index=True)"
   ]
  },
  {
   "cell_type": "code",
   "execution_count": null,
   "metadata": {},
   "outputs": [],
   "source": []
  },
  {
   "cell_type": "code",
   "execution_count": null,
   "metadata": {},
   "outputs": [],
   "source": []
  },
  {
   "cell_type": "code",
   "execution_count": null,
   "metadata": {},
   "outputs": [],
   "source": []
  }
 ],
 "metadata": {
  "kernelspec": {
   "display_name": "Python 3",
   "language": "python",
   "name": "python3"
  },
  "language_info": {
   "codemirror_mode": {
    "name": "ipython",
    "version": 3
   },
   "file_extension": ".py",
   "mimetype": "text/x-python",
   "name": "python",
   "nbconvert_exporter": "python",
   "pygments_lexer": "ipython3",
   "version": "3.7.3"
  }
 },
 "nbformat": 4,
 "nbformat_minor": 4
}
