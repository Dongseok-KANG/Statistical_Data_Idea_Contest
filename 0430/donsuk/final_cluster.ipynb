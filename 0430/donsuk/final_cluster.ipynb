{
 "cells": [
  {
   "cell_type": "code",
   "execution_count": 20,
   "metadata": {},
   "outputs": [],
   "source": [
    "import pandas as pd\n",
    "import numpy as np\n",
    "import sys"
   ]
  },
  {
   "cell_type": "code",
   "execution_count": 21,
   "metadata": {},
   "outputs": [],
   "source": [
    "cluster = pd.read_csv('result.csv',index_col='global_id')\n",
    "train = pd.read_csv('기술통계19_new.csv',index_col='global_id')"
   ]
  },
  {
   "cell_type": "code",
   "execution_count": 22,
   "metadata": {},
   "outputs": [],
   "source": [
    "Spectral=cluster.Spectral\n",
    "Spectral_dummy = cluster.Spectral_dummy\n",
    "agg = cluster['agg']\n",
    "agg_pca = cluster.agg_pca"
   ]
  },
  {
   "cell_type": "markdown",
   "metadata": {},
   "source": [
    "기술통계19_new.csv 는 기술통계 자료에서 서비스+제조+일반 업종만 추출한 자료이다."
   ]
  },
  {
   "cell_type": "code",
   "execution_count": 23,
   "metadata": {},
   "outputs": [],
   "source": [
    "def final_cluster(train,method):\n",
    "    train['cluster'] = method\n",
    "    features = ['05-Sep','bt','cluster']\n",
    "    \n",
    "    train = train[features].copy()\n",
    "    train['05-Sep']=train['05-Sep'].replace({4:1})\n",
    "    train['bt']=train['bt'].replace({2:1,3:2})\n",
    "    train['cluster']= train['cluster'].replace({0:3})\n",
    "    train['bt']=train['bt'].replace({1:10,2:20})\n",
    "    train['05-Sep']= train['05-Sep'].replace({1:100,2:200,3:300})\n",
    "    \n",
    "    train['new_cluster'] = train['05-Sep']+train['bt']+train['cluster']\n",
    "    \n",
    "    return train\n",
    "\n",
    "\n",
    "\n",
    "#     for (sep, bt, cluster), group_data in train[['05-Sep','bt','cluster']].groupby(['05-Sep','bt','cluster']):\n",
    "#         train['group_name'] = sep+bt+cluster"
   ]
  },
  {
   "cell_type": "code",
   "execution_count": 24,
   "metadata": {
    "scrolled": true
   },
   "outputs": [],
   "source": [
    "Spectral_cluster = final_cluster(train,Spectral)\n",
    "Spectral_dummy_cluster = final_cluster(train,Spectral_dummy)\n",
    "agg_cluster = final_cluster(train,agg)\n",
    "agg_pca = final_cluster(train,agg_pca)"
   ]
  },
  {
   "cell_type": "code",
   "execution_count": 26,
   "metadata": {},
   "outputs": [],
   "source": [
    "# train.sort_values(by='new_cluster').head()"
   ]
  },
  {
   "cell_type": "code",
   "execution_count": 27,
   "metadata": {},
   "outputs": [
    {
     "data": {
      "text/plain": [
       "323.0    201\n",
       "321.0    191\n",
       "221.0    123\n",
       "223.0    110\n",
       "313.0     88\n",
       "322.0     78\n",
       "311.0     53\n",
       "211.0     49\n",
       "123.0     47\n",
       "122.0     37\n",
       "121.0     32\n",
       "213.0     32\n",
       "222.0     15\n",
       "312.0     15\n",
       "113.0     13\n",
       "112.0      8\n",
       "111.0      6\n",
       "212.0      3\n",
       "Name: new_cluster, dtype: int64"
      ]
     },
     "execution_count": 27,
     "metadata": {},
     "output_type": "execute_result"
    }
   ],
   "source": [
    "Spectral_cluster['new_cluster'].value_counts()"
   ]
  },
  {
   "cell_type": "code",
   "execution_count": 28,
   "metadata": {
    "scrolled": true
   },
   "outputs": [
    {
     "data": {
      "text/plain": [
       "323.0    221\n",
       "321.0    194\n",
       "223.0    132\n",
       "221.0    110\n",
       "311.0     84\n",
       "313.0     61\n",
       "322.0     55\n",
       "213.0     49\n",
       "121.0     47\n",
       "123.0     43\n",
       "211.0     32\n",
       "122.0     26\n",
       "111.0     11\n",
       "312.0     11\n",
       "113.0      8\n",
       "112.0      8\n",
       "222.0      6\n",
       "212.0      3\n",
       "Name: new_cluster, dtype: int64"
      ]
     },
     "execution_count": 28,
     "metadata": {},
     "output_type": "execute_result"
    }
   ],
   "source": [
    "Spectral_dummy_cluster['new_cluster'].value_counts() # 이걸로 선정"
   ]
  },
  {
   "cell_type": "code",
   "execution_count": 31,
   "metadata": {},
   "outputs": [
    {
     "data": {
      "text/plain": [
       "323.0    178\n",
       "321.0    151\n",
       "322.0    141\n",
       "223.0    108\n",
       "221.0     85\n",
       "311.0     61\n",
       "222.0     55\n",
       "313.0     48\n",
       "312.0     47\n",
       "213.0     43\n",
       "121.0     41\n",
       "122.0     39\n",
       "123.0     36\n",
       "211.0     21\n",
       "212.0     20\n",
       "112.0     13\n",
       "111.0      8\n",
       "113.0      6\n",
       "Name: new_cluster, dtype: int64"
      ]
     },
     "execution_count": 31,
     "metadata": {},
     "output_type": "execute_result"
    }
   ],
   "source": [
    "agg_cluster['new_cluster'].value_counts()"
   ]
  },
  {
   "cell_type": "code",
   "execution_count": 30,
   "metadata": {},
   "outputs": [
    {
     "data": {
      "text/plain": [
       "321.0    184\n",
       "323.0    170\n",
       "322.0    116\n",
       "221.0    115\n",
       "223.0    102\n",
       "313.0     77\n",
       "311.0     53\n",
       "211.0     46\n",
       "123.0     44\n",
       "122.0     42\n",
       "222.0     31\n",
       "121.0     30\n",
       "213.0     30\n",
       "312.0     26\n",
       "113.0     11\n",
       "112.0     10\n",
       "212.0      8\n",
       "111.0      6\n",
       "Name: new_cluster, dtype: int64"
      ]
     },
     "execution_count": 30,
     "metadata": {},
     "output_type": "execute_result"
    }
   ],
   "source": [
    "agg_pca['new_cluster'].value_counts()"
   ]
  },
  {
   "cell_type": "code",
   "execution_count": null,
   "metadata": {},
   "outputs": [],
   "source": []
  }
 ],
 "metadata": {
  "kernelspec": {
   "display_name": "Python 3",
   "language": "python",
   "name": "python3"
  },
  "language_info": {
   "codemirror_mode": {
    "name": "ipython",
    "version": 3
   },
   "file_extension": ".py",
   "mimetype": "text/x-python",
   "name": "python",
   "nbconvert_exporter": "python",
   "pygments_lexer": "ipython3",
   "version": "3.7.3"
  }
 },
 "nbformat": 4,
 "nbformat_minor": 2
}
